{
 "cells": [
  {
   "cell_type": "code",
   "execution_count": 1,
   "metadata": {},
   "outputs": [
    {
     "name": "stdout",
     "output_type": "stream",
     "text": [
      "NVIDIA RTX A2000 8GB Laptop GPU\n",
      "2.0.0+cu118 True\n",
      "cuda:0\n"
     ]
    }
   ],
   "source": [
    "import torch\n",
    "import torch.nn as nn\n",
    "from torch.utils.data import Dataset, DataLoader, random_split\n",
    "\n",
    "print(torch.cuda.get_device_name())\n",
    "print(torch.__version__, torch.cuda.is_available())\n",
    "device = torch.device('cuda:0' if torch.cuda.is_available() else 'cpu')\n",
    "print(device)"
   ]
  },
  {
   "cell_type": "code",
   "execution_count": 2,
   "metadata": {},
   "outputs": [],
   "source": [
    "import numpy as np\n",
    "import matplotlib.pyplot as plt"
   ]
  },
  {
   "cell_type": "code",
   "execution_count": 3,
   "metadata": {},
   "outputs": [],
   "source": [
    "x_data = np.loadtxt('../data/env1/x.csv', delimiter=',',encoding=\"utf-8-sig\")\n",
    "y_data = np.loadtxt('../data/env1/y.csv', delimiter=',',encoding=\"utf-8-sig\")\n",
    "theta_data = np.loadtxt('../data/env1/theta.csv', delimiter=',',encoding=\"utf-8-sig\")"
   ]
  },
  {
   "cell_type": "code",
   "execution_count": 4,
   "metadata": {},
   "outputs": [],
   "source": [
    "x_data_input = np.stack([x_data[:, 0],x_data[:, -1]], axis=1)\n",
    "y_data_input = np.stack([y_data[:, 0],y_data[:, -1]], axis=1)\n",
    "theta_data_input = np.stack([theta_data[:, 0],theta_data[:, -1]], axis=1)\n",
    "\n",
    "x_data_output = x_data[:, 1:-1]\n",
    "y_data_output = y_data[:, 1:-1]"
   ]
  },
  {
   "cell_type": "code",
   "execution_count": 5,
   "metadata": {},
   "outputs": [
    {
     "name": "stdout",
     "output_type": "stream",
     "text": [
      "-1.68718655\n",
      "[[-1.39265343 28.42921012  1.67284633 -1.89030781 -1.53883245 -0.03173356]]\n",
      "[[-1.39265343  1.67284633]\n",
      " [-1.32873657 -0.32613207]\n",
      " [-1.32873657 -0.32613207]\n",
      " [ 0.03604745 -1.64695926]\n",
      " [ 1.51529569 -1.70320276]\n",
      " [ 2.69464307 -1.32239109]\n",
      " [ 3.73048028 -0.80652157]\n",
      " [ 4.70270612 -0.22155629]\n",
      " [ 5.64769867  0.39365951]\n",
      " [ 6.63113646  1.02998711]\n",
      " [ 7.7563885   1.68629995]\n",
      " [ 9.59373307  2.47634106]\n",
      " [11.16892351  2.29903287]\n",
      " [12.23254106  1.82838969]\n",
      " [13.20197255  1.26983142]\n",
      " [14.11847013  0.66324618]\n",
      " [15.01477099  0.03162798]\n",
      " [15.92508811 -0.6105771 ]\n",
      " [16.89931829 -1.25572716]\n",
      " [18.06098444 -1.91379801]\n",
      " [19.53588211 -2.46909135]\n",
      " [20.67762521 -2.572247  ]\n",
      " [21.79280425 -2.56195423]\n",
      " [22.88431661 -2.48070567]\n",
      " [23.95637471 -2.35847705]\n",
      " [25.02392295 -2.21776662]\n",
      " [26.10704996 -2.07738736]\n",
      " [27.2326434  -1.95777503]]\n"
     ]
    }
   ],
   "source": [
    "input_data = np.concatenate([x_data_input, y_data_input, theta_data_input], axis=1)\n",
    "output_data = np.concatenate([x_data_output, y_data_output], axis=1)\n",
    "\n",
    "RNN_input_data = input_data.reshape(np.shape(input_data)[0], 1, np.shape(input_data)[1]).copy()\n",
    "x_data_output = x_data_output.tolist()\n",
    "y_data_output = y_data_output.tolist()\n",
    "print(x_data_output[0][0])\n",
    "RNN_output_data = []\n",
    "for i in range(np.shape(output_data)[0]):\n",
    "  List = []\n",
    "  for j in range(int(np.shape(output_data)[1]/2)):\n",
    "    List.append([x_data_output[i][j], y_data_output[i][j]])\n",
    "  RNN_output_data.append(List)\n",
    "#RNN_output_data = output_data.reshape(np.shape(output_data)[0], int(np.shape(output_data)[1]/2), 2).copy()\n",
    "\n",
    "RNN_output_data = np.array(RNN_output_data)\n",
    "print(RNN_input_data[1])\n",
    "print(RNN_output_data[1])"
   ]
  },
  {
   "cell_type": "code",
   "execution_count": 6,
   "metadata": {},
   "outputs": [],
   "source": [
    "class MyDataset(Dataset):\n",
    "    def __init__(self, input_data, output_data):\n",
    "        super(MyDataset, self).__init__()\n",
    "        self.input_data = input_data\n",
    "        self.output_data = output_data\n",
    "\n",
    "    def __getitem__(self, index):\n",
    "        input = torch.tensor(self.input_data[index], dtype=torch.float32)\n",
    "        output = torch.tensor(self.output_data[index], dtype=torch.float32)\n",
    "        return input, output\n",
    "\n",
    "    def __len__(self):\n",
    "        return len(self.input_data)"
   ]
  },
  {
   "cell_type": "code",
   "execution_count": 7,
   "metadata": {},
   "outputs": [],
   "source": [
    "train_valid_data = MyDataset(RNN_input_data, RNN_output_data)\n",
    "\n",
    "val_size = 2000\n",
    "train_data, val_data = torch.utils.data.random_split(train_valid_data, [len(train_valid_data)-val_size, val_size])"
   ]
  },
  {
   "cell_type": "code",
   "execution_count": 8,
   "metadata": {},
   "outputs": [],
   "source": [
    "batch_size = 64\n",
    "\n",
    "dataloader_train = torch.utils.data.DataLoader(\n",
    "    train_data,\n",
    "    batch_size=batch_size,\n",
    "    shuffle=True\n",
    ")\n",
    "\n",
    "dataloader_valid = torch.utils.data.DataLoader(\n",
    "    val_data,\n",
    "    batch_size=batch_size,\n",
    "    shuffle=True\n",
    ")"
   ]
  },
  {
   "cell_type": "code",
   "execution_count": 9,
   "metadata": {},
   "outputs": [],
   "source": [
    "class RNN(nn.Module):\n",
    "    def __init__(self, input_size, hidden_size, output_size, output_seq_length, num_layers):\n",
    "        super(RNN, self).__init__()\n",
    "        self.hidden_size = hidden_size\n",
    "        self.output_seq_length = output_seq_length\n",
    "        self.num_layers = num_layers\n",
    "        self.rnn = nn.RNN(input_size, hidden_size, num_layers=self.num_layers, batch_first=True, nonlinearity='relu')\n",
    "        self.fc = nn.Linear(hidden_size, output_size)\n",
    "\n",
    "    def forward(self, x):\n",
    "        #入力のsequence長さを出力のsequence長さに合わせるため拡張する\n",
    "        new_size = (x.size(0), self.output_seq_length, input_size)\n",
    "        x = x.expand(*new_size)\n",
    "        \n",
    "        h0 = torch.zeros(self.num_layers, x.size(0), self.hidden_size).to(x.device)\n",
    "\n",
    "        output, _ = self.rnn(x, h0)\n",
    "        output = self.fc(output)\n",
    "\n",
    "        return output"
   ]
  },
  {
   "cell_type": "code",
   "execution_count": 10,
   "metadata": {},
   "outputs": [],
   "source": [
    "# ハイパーパラメータの設定\n",
    "input_size = RNN_input_data.shape[2]\n",
    "hidden_size = 200\n",
    "output_size = RNN_output_data.shape[2]\n",
    "output_seq_length = RNN_output_data.shape[1]\n",
    "num_layers = 2\n",
    "learning_rate = 0.001\n",
    "num_epochs = 100\n",
    "\n",
    "# モデルの定義\n",
    "model = RNN(input_size, hidden_size, output_size, output_seq_length, num_layers).to(device)"
   ]
  },
  {
   "cell_type": "code",
   "execution_count": 11,
   "metadata": {},
   "outputs": [
    {
     "name": "stdout",
     "output_type": "stream",
     "text": [
      "torch.Size([64, 1, 6])\n",
      "torch.Size([64, 28, 2])\n"
     ]
    }
   ],
   "source": [
    "#モデルの出力テスト\n",
    "input_test_data = torch.randn(batch_size, 1, input_size)\n",
    "input_test_data = input_test_data.to(device)\n",
    "output = model(input_test_data)\n",
    "print(input_test_data.size())\n",
    "print(output.size())"
   ]
  },
  {
   "cell_type": "code",
   "execution_count": 33,
   "metadata": {},
   "outputs": [
    {
     "name": "stdout",
     "output_type": "stream",
     "text": [
      "Epoch [1/100], Loss: 0.2501, val_loss: 0.0808\n",
      "Epoch [2/100], Loss: 0.0701, val_loss: 0.0806\n",
      "Epoch [3/100], Loss: 0.0606, val_loss: 0.0604\n",
      "Epoch [4/100], Loss: 0.0566, val_loss: 0.0697\n",
      "Epoch [5/100], Loss: 0.0573, val_loss: 0.0808\n",
      "Epoch [6/100], Loss: 0.0569, val_loss: 0.0624\n",
      "Epoch [7/100], Loss: 0.0548, val_loss: 0.0569\n",
      "Epoch [8/100], Loss: 0.0554, val_loss: 0.0621\n",
      "Epoch [9/100], Loss: 0.0541, val_loss: 0.0638\n",
      "Epoch [10/100], Loss: 0.0535, val_loss: 0.0605\n",
      "Epoch [11/100], Loss: 0.0540, val_loss: 0.0602\n",
      "Epoch [12/100], Loss: 0.0546, val_loss: 0.0568\n",
      "Epoch [13/100], Loss: 0.0539, val_loss: 0.0633\n",
      "Epoch [14/100], Loss: 0.0537, val_loss: 0.0578\n",
      "Epoch [15/100], Loss: 0.0528, val_loss: 0.0621\n",
      "Epoch [16/100], Loss: 0.0532, val_loss: 0.0632\n",
      "Epoch [17/100], Loss: 0.0531, val_loss: 0.0607\n",
      "Epoch [18/100], Loss: 0.0530, val_loss: 0.0566\n",
      "Epoch [19/100], Loss: 0.0531, val_loss: 0.0561\n",
      "Epoch [20/100], Loss: 0.0526, val_loss: 0.0606\n",
      "Epoch [21/100], Loss: 0.0526, val_loss: 0.0599\n",
      "Epoch [22/100], Loss: 0.0534, val_loss: 0.0571\n",
      "Epoch [23/100], Loss: 0.0525, val_loss: 0.0557\n",
      "Epoch [24/100], Loss: 0.0529, val_loss: 0.0574\n",
      "Epoch [25/100], Loss: 0.0528, val_loss: 0.0567\n",
      "Epoch [26/100], Loss: 0.0527, val_loss: 0.0617\n",
      "Epoch [27/100], Loss: 0.0525, val_loss: 0.0589\n",
      "Epoch [28/100], Loss: 0.0525, val_loss: 0.0555\n",
      "Epoch [29/100], Loss: 0.0524, val_loss: 0.0572\n",
      "Epoch [30/100], Loss: 0.0524, val_loss: 0.0559\n",
      "Epoch [31/100], Loss: 0.0525, val_loss: 0.0685\n",
      "Epoch [32/100], Loss: 0.0534, val_loss: 0.0558\n",
      "Epoch [33/100], Loss: 0.0523, val_loss: 0.0602\n",
      "Epoch [34/100], Loss: 0.0533, val_loss: 0.0594\n",
      "Epoch [35/100], Loss: 0.0518, val_loss: 0.0588\n",
      "Epoch [36/100], Loss: 0.0521, val_loss: 0.0555\n",
      "Epoch [37/100], Loss: 0.0525, val_loss: 0.0567\n",
      "Epoch [38/100], Loss: 0.0521, val_loss: 0.0562\n",
      "Epoch [39/100], Loss: 0.0519, val_loss: 0.0598\n",
      "Epoch [40/100], Loss: 0.0524, val_loss: 0.0571\n",
      "Epoch [41/100], Loss: 0.0524, val_loss: 0.0598\n",
      "Epoch [42/100], Loss: 0.0526, val_loss: 0.0565\n",
      "Epoch [43/100], Loss: 0.0517, val_loss: 0.0589\n",
      "Epoch [44/100], Loss: 0.0519, val_loss: 0.0554\n",
      "Epoch [45/100], Loss: 0.0518, val_loss: 0.0560\n",
      "Epoch [46/100], Loss: 0.0524, val_loss: 0.0590\n",
      "Epoch [47/100], Loss: 0.0517, val_loss: 0.0571\n",
      "Epoch [48/100], Loss: 0.0524, val_loss: 0.0586\n",
      "Epoch [49/100], Loss: 0.0519, val_loss: 0.0560\n",
      "Epoch [50/100], Loss: 0.0515, val_loss: 0.0595\n",
      "Epoch [51/100], Loss: 0.0519, val_loss: 0.0576\n",
      "Epoch [52/100], Loss: 0.0523, val_loss: 0.0574\n",
      "Epoch [53/100], Loss: 0.0520, val_loss: 0.0560\n",
      "Epoch [54/100], Loss: 0.0521, val_loss: 0.0568\n",
      "Epoch [55/100], Loss: 0.0514, val_loss: 0.0561\n",
      "Epoch [56/100], Loss: 0.0513, val_loss: 0.0557\n",
      "Epoch [57/100], Loss: 0.0517, val_loss: 0.0562\n",
      "Epoch [58/100], Loss: 0.0522, val_loss: 0.0581\n",
      "Epoch [59/100], Loss: 0.0514, val_loss: 0.0565\n",
      "Epoch [60/100], Loss: 0.0515, val_loss: 0.0578\n",
      "Epoch [61/100], Loss: 0.0519, val_loss: 0.0564\n",
      "Epoch [62/100], Loss: 0.0527, val_loss: 0.0597\n",
      "Epoch [63/100], Loss: 0.0520, val_loss: 0.0564\n",
      "Epoch [64/100], Loss: 0.0518, val_loss: 0.0553\n",
      "Epoch [65/100], Loss: 0.0513, val_loss: 0.0554\n",
      "Epoch [66/100], Loss: 0.0515, val_loss: 0.0570\n",
      "Epoch [67/100], Loss: 0.0513, val_loss: 0.0553\n",
      "Epoch [68/100], Loss: 0.0513, val_loss: 0.0558\n",
      "Epoch [69/100], Loss: 0.0516, val_loss: 0.0556\n",
      "Epoch [70/100], Loss: 0.0518, val_loss: 0.0566\n",
      "Epoch [71/100], Loss: 0.0515, val_loss: 0.0598\n",
      "Epoch [72/100], Loss: 0.0518, val_loss: 0.0575\n",
      "Epoch [73/100], Loss: 0.0518, val_loss: 0.0565\n",
      "Epoch [74/100], Loss: 0.0515, val_loss: 0.0563\n",
      "Epoch [75/100], Loss: 0.0516, val_loss: 0.0568\n",
      "Epoch [76/100], Loss: 0.0513, val_loss: 0.0561\n",
      "Epoch [77/100], Loss: 0.0515, val_loss: 0.0559\n",
      "Epoch [78/100], Loss: 0.0515, val_loss: 0.0568\n",
      "Epoch [79/100], Loss: 0.0518, val_loss: 0.0558\n",
      "Epoch [80/100], Loss: 0.0516, val_loss: 0.0587\n",
      "Epoch [81/100], Loss: 0.0514, val_loss: 0.0559\n",
      "Epoch [82/100], Loss: 0.0513, val_loss: 0.0551\n",
      "Epoch [83/100], Loss: 0.0511, val_loss: 0.0559\n",
      "Epoch [84/100], Loss: 0.0514, val_loss: 0.0551\n",
      "Epoch [85/100], Loss: 0.0515, val_loss: 0.0553\n",
      "Epoch [86/100], Loss: 0.0508, val_loss: 0.0568\n",
      "Epoch [87/100], Loss: 0.0515, val_loss: 0.0577\n",
      "Epoch [88/100], Loss: 0.0510, val_loss: 0.0558\n",
      "Epoch [89/100], Loss: 0.0512, val_loss: 0.0585\n",
      "Epoch [90/100], Loss: 0.0519, val_loss: 0.0563\n",
      "Epoch [91/100], Loss: 0.0514, val_loss: 0.0556\n",
      "Epoch [92/100], Loss: 0.0513, val_loss: 0.0575\n",
      "Epoch [93/100], Loss: 0.0510, val_loss: 0.0562\n",
      "Epoch [94/100], Loss: 0.0510, val_loss: 0.0584\n",
      "Epoch [95/100], Loss: 0.0518, val_loss: 0.0560\n",
      "Epoch [96/100], Loss: 0.0508, val_loss: 0.0573\n",
      "Epoch [97/100], Loss: 0.0510, val_loss: 0.0569\n",
      "Epoch [98/100], Loss: 0.0510, val_loss: 0.0557\n",
      "Epoch [99/100], Loss: 0.0512, val_loss: 0.0555\n",
      "Epoch [100/100], Loss: 0.0513, val_loss: 0.0566\n"
     ]
    }
   ],
   "source": [
    "# 損失関数の定義\n",
    "criterion = nn.MSELoss()\n",
    "\n",
    "# オプティマイザの定義\n",
    "optimizer = torch.optim.Adam(model.parameters(), lr=learning_rate)\n",
    "\n",
    "#トレーニングの開始\n",
    "train_loss_list, val_loss_list = [], []\n",
    "\n",
    "for epoch in range(num_epochs):\n",
    "    train_loss, val_loss = 0, 0\n",
    "    \n",
    "    #train_mode\n",
    "    model.train()\n",
    "    for i, (input_data, output_data) in enumerate(dataloader_train):\n",
    "        # データをGPUに転送\n",
    "        input_data, output_data = input_data.to(device), output_data.to(device)\n",
    "        \n",
    "        # モデルの出力を計算\n",
    "        output = model(input_data)\n",
    "        \n",
    "        # 損失関数の適用\n",
    "        loss = criterion(output, output_data)\n",
    "        \n",
    "        #train_lossに結果を蓄積\n",
    "        train_loss += loss.item()\n",
    "        \n",
    "        # 勾配を初期化して逆伝播\n",
    "        optimizer.zero_grad()\n",
    "        loss.backward()\n",
    "        optimizer.step()\n",
    "        \n",
    "        # lossの平均を計算\n",
    "        avg_train_loss = train_loss / len(dataloader_train.dataset)  \n",
    "        \n",
    "    #valid_mode\n",
    "    model.eval()\n",
    "    with torch.no_grad():\n",
    "        for input_data, output_data in dataloader_valid:\n",
    "            # データをGPUに転送\n",
    "            input_data, output_data = input_data.to(device), output_data.to(device)\n",
    "            \n",
    "            # モデルの出力を計算\n",
    "            output = model(input_data)\n",
    "            \n",
    "            # 損失関数の適用\n",
    "            loss = criterion(output, output_data)\n",
    "        \n",
    "            #val_lossに結果を蓄積\n",
    "            val_loss += loss.item()\n",
    "    \n",
    "    # lossの平均を計算      \n",
    "    avg_val_loss = val_loss / len(dataloader_valid.dataset)\n",
    "    \n",
    "    # print log\n",
    "    print ('Epoch [{}/{}], Loss: {loss:.4f}, val_loss: {val_loss:.4f}'.format(epoch+1, num_epochs, i+1, loss=avg_train_loss, val_loss=avg_val_loss))\n",
    "    \n",
    "    # append list for polt graph after training\n",
    "    train_loss_list.append(avg_train_loss)\n",
    "    val_loss_list.append(avg_val_loss)\n"
   ]
  },
  {
   "cell_type": "code",
   "execution_count": 34,
   "metadata": {},
   "outputs": [
    {
     "data": {
      "image/png": "[encoded data removed]",
      "text/plain": [
       "<Figure size 640x480 with 1 Axes>"
      ]
     },
     "metadata": {},
     "output_type": "display_data"
    }
   ],
   "source": [
    "plt.figure()\n",
    "plt.plot(range(num_epochs), train_loss_list, color='blue', linestyle='-', label='train_loss')\n",
    "plt.plot(range(num_epochs), val_loss_list, color='green', linestyle='--', label='val_loss')\n",
    "plt.legend()\n",
    "plt.xlabel('epoch')\n",
    "plt.ylabel('loss')\n",
    "plt.title('Training and validation loss')\n",
    "plt.grid()"
   ]
  },
  {
   "cell_type": "code",
   "execution_count": 35,
   "metadata": {},
   "outputs": [],
   "source": [
    "#save model\n",
    "torch.save(model.state_dict(), '../saved_models/model_RNN_64.pth')"
   ]
  },
  {
   "cell_type": "code",
   "execution_count": 12,
   "metadata": {},
   "outputs": [
    {
     "name": "stdout",
     "output_type": "stream",
     "text": [
      "RNN(\n",
      "  (rnn): RNN(6, 200, num_layers=2, batch_first=True)\n",
      "  (fc): Linear(in_features=200, out_features=2, bias=True)\n",
      ")\n"
     ]
    }
   ],
   "source": [
    "#read model\n",
    "model = RNN(input_size, hidden_size, output_size, output_seq_length, num_layers).to(device)\n",
    "model.load_state_dict(torch.load('../saved_models/model_RNN_64.pth'))\n",
    "print(model)"
   ]
  },
  {
   "cell_type": "code",
   "execution_count": 13,
   "metadata": {},
   "outputs": [],
   "source": [
    "class TestDataset(Dataset):\n",
    "    def __init__(self, test_data):\n",
    "        self.test_data = test_data\n",
    "\n",
    "    def __len__(self):\n",
    "        return len(self.test_data)\n",
    "\n",
    "    def __getitem__(self, index):\n",
    "        input = torch.tensor(self.test_data[index], dtype=torch.float32)\n",
    "        output = 0\n",
    "        return input, output"
   ]
  },
  {
   "cell_type": "code",
   "execution_count": 25,
   "metadata": {},
   "outputs": [
    {
     "name": "stdout",
     "output_type": "stream",
     "text": [
      "初期姿勢：-42°, 終端姿勢：30°\n"
     ]
    },
    {
     "data": {
      "image/png": "[encoded data removed]",
      "text/plain": [
       "<Figure size 640x480 with 1 Axes>"
      ]
     },
     "metadata": {},
     "output_type": "display_data"
    }
   ],
   "source": [
    "#test_pathの表示\n",
    "import plot\n",
    "import random\n",
    "\n",
    "#入力のサンプリング\n",
    "x_start = (random.uniform(-2, 4), random.uniform(-3, 3))  # Starting node\n",
    "x_goal = (random.uniform(26, 32), random.uniform(-3, 3))  # Goal node\n",
    "\n",
    "theta_start = random.uniform(-np.pi/2, np.pi/2)\n",
    "theta_goal = random.uniform(-np.pi/2, np.pi/2)\n",
    "\n",
    "test_data = np.array([[[x_start[0], x_goal[0], x_start[1], x_goal[1], theta_start, theta_goal]]])\n",
    "\n",
    "\"\"\"\n",
    "#正規化する\n",
    "input_data = np.concatenate([x_data_input, y_data_input, theta_data_input], axis=1)\n",
    "test_data = (test_data - np.min(input_data, axis=0)) / (np.max(input_data, axis=0) - np.min(input_data, axis=0))\n",
    "\"\"\"\n",
    "\n",
    "test_data = TestDataset(test_data)\n",
    "test_loader = torch.utils.data.DataLoader(test_data, batch_size=1, shuffle=False)\n",
    "\n",
    "#予測モード\n",
    "model.eval()\n",
    "with torch.no_grad():\n",
    "    input_data, _ = next(iter(test_loader))\n",
    "    input_data = input_data.to(device)\n",
    "    output = model(input_data)\n",
    "\n",
    "\n",
    "output = output.cpu().numpy()\n",
    "\n",
    "test_x_path = np.array([])\n",
    "test_y_path = np.array([])\n",
    "for i in range(output.shape[1]):\n",
    "    test_x_path = np.append(test_x_path, output[0, i, 0])\n",
    "    test_y_path = np.append(test_y_path, output[0, i, 1])\n",
    "    \n",
    "test_x_path = np.append(test_x_path, x_goal[0])\n",
    "test_x_path = np.append(x_start[0], test_x_path)\n",
    "test_y_path = np.append(test_y_path, x_goal[1])\n",
    "test_y_path = np.append(x_start[1], test_y_path)\n",
    "\n",
    "print(\"初期姿勢：{}°, 終端姿勢：{}°\".format(int(np.degrees(theta_start)), int(np.degrees(theta_goal))))\n",
    "plot.vis_path_env1(test_x_path, test_y_path)"
   ]
  },
  {
   "cell_type": "code",
   "execution_count": null,
   "metadata": {},
   "outputs": [],
   "source": []
  }
 ],
 "metadata": {
  "kernelspec": {
   "display_name": "Python 3",
   "language": "python",
   "name": "python3"
  },
  "language_info": {
   "codemirror_mode": {
    "name": "ipython",
    "version": 3
   },
   "file_extension": ".py",
   "mimetype": "text/x-python",
   "name": "python",
   "nbconvert_exporter": "python",
   "pygments_lexer": "ipython3",
   "version": "3.10.6"
  },
  "orig_nbformat": 4
 },
 "nbformat": 4,
 "nbformat_minor": 2
}
