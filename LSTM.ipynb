{
 "cells": [
  {
   "cell_type": "code",
   "execution_count": 1,
   "metadata": {},
   "outputs": [
    {
     "name": "stdout",
     "output_type": "stream",
     "text": [
      "NVIDIA RTX A2000 8GB Laptop GPU\n",
      "2.0.0+cu118 True\n",
      "cuda:0\n"
     ]
    }
   ],
   "source": [
    "import torch\n",
    "import torch.nn as nn\n",
    "from torch.utils.data import Dataset, DataLoader, random_split\n",
    "\n",
    "print(torch.cuda.get_device_name())\n",
    "print(torch.__version__, torch.cuda.is_available())\n",
    "device = torch.device('cuda:0' if torch.cuda.is_available() else 'cpu')\n",
    "print(device)"
   ]
  },
  {
   "cell_type": "code",
   "execution_count": 2,
   "metadata": {},
   "outputs": [],
   "source": [
    "import numpy as np\n",
    "import matplotlib.pyplot as plt"
   ]
  },
  {
   "cell_type": "code",
   "execution_count": 60,
   "metadata": {},
   "outputs": [
    {
     "data": {
      "text/plain": [
       "'\\nx_data = np.loadtxt(\\'../data/env2/x.csv\\', delimiter=\\',\\',encoding=\"utf-8-sig\")\\ny_data = np.loadtxt(\\'../data/env2/y.csv\\', delimiter=\\',\\',encoding=\"utf-8-sig\")\\ntheta_data = np.loadtxt(\\'../data/env2/theta.csv\\', delimiter=\\',\\',encoding=\"utf-8-sig\")\\n\\nx_data = np.loadtxt(\\'../data/env1/x_extract.csv\\', delimiter=\\',\\',encoding=\"utf-8-sig\")\\ny_data = np.loadtxt(\\'../data/env1/y_extract.csv\\', delimiter=\\',\\',encoding=\"utf-8-sig\")\\ntheta_data = np.loadtxt(\\'../data/env1/theta_extract.csv\\', delimiter=\\',\\',encoding=\"utf-8-sig\")\\n'"
      ]
     },
     "execution_count": 60,
     "metadata": {},
     "output_type": "execute_result"
    }
   ],
   "source": [
    "\n",
    "x_data = np.loadtxt('../data/env1/x.csv', delimiter=',',encoding=\"utf-8-sig\")\n",
    "y_data = np.loadtxt('../data/env1/y.csv', delimiter=',',encoding=\"utf-8-sig\")\n",
    "theta_data = np.loadtxt('../data/env1/theta.csv', delimiter=',',encoding=\"utf-8-sig\")\n",
    "\"\"\"\n",
    "x_data = np.loadtxt('../data/env2/x.csv', delimiter=',',encoding=\"utf-8-sig\")\n",
    "y_data = np.loadtxt('../data/env2/y.csv', delimiter=',',encoding=\"utf-8-sig\")\n",
    "theta_data = np.loadtxt('../data/env2/theta.csv', delimiter=',',encoding=\"utf-8-sig\")\n",
    "\n",
    "x_data = np.loadtxt('../data/env1/x_extract.csv', delimiter=',',encoding=\"utf-8-sig\")\n",
    "y_data = np.loadtxt('../data/env1/y_extract.csv', delimiter=',',encoding=\"utf-8-sig\")\n",
    "theta_data = np.loadtxt('../data/env1/theta_extract.csv', delimiter=',',encoding=\"utf-8-sig\")\n",
    "\"\"\""
   ]
  },
  {
   "cell_type": "code",
   "execution_count": 61,
   "metadata": {},
   "outputs": [],
   "source": [
    "x_data_input = np.stack([x_data[:, 0],x_data[:, -1]], axis=1)\n",
    "y_data_input = np.stack([y_data[:, 0],y_data[:, -1]], axis=1)\n",
    "theta_data_input = np.stack([theta_data[:, 0],theta_data[:, -1]], axis=1)\n",
    "\n",
    "x_data_output = x_data[:, 1:-1]\n",
    "y_data_output = y_data[:, 1:-1]"
   ]
  },
  {
   "cell_type": "code",
   "execution_count": 62,
   "metadata": {},
   "outputs": [
    {
     "name": "stdout",
     "output_type": "stream",
     "text": [
      "-1.68718655\n",
      "[[-1.39265343 28.42921012  1.67284633 -1.89030781 -1.53883245 -0.03173356]]\n",
      "[[-1.39265343  1.67284633]\n",
      " [-1.32873657 -0.32613207]\n",
      " [-1.32873657 -0.32613207]\n",
      " [ 0.03604745 -1.64695926]\n",
      " [ 1.51529569 -1.70320276]\n",
      " [ 2.69464307 -1.32239109]\n",
      " [ 3.73048028 -0.80652157]\n",
      " [ 4.70270612 -0.22155629]\n",
      " [ 5.64769867  0.39365951]\n",
      " [ 6.63113646  1.02998711]\n",
      " [ 7.7563885   1.68629995]\n",
      " [ 9.59373307  2.47634106]\n",
      " [11.16892351  2.29903287]\n",
      " [12.23254106  1.82838969]\n",
      " [13.20197255  1.26983142]\n",
      " [14.11847013  0.66324618]\n",
      " [15.01477099  0.03162798]\n",
      " [15.92508811 -0.6105771 ]\n",
      " [16.89931829 -1.25572716]\n",
      " [18.06098444 -1.91379801]\n",
      " [19.53588211 -2.46909135]\n",
      " [20.67762521 -2.572247  ]\n",
      " [21.79280425 -2.56195423]\n",
      " [22.88431661 -2.48070567]\n",
      " [23.95637471 -2.35847705]\n",
      " [25.02392295 -2.21776662]\n",
      " [26.10704996 -2.07738736]\n",
      " [27.2326434  -1.95777503]]\n"
     ]
    }
   ],
   "source": [
    "input_data = np.concatenate([x_data_input, y_data_input, theta_data_input], axis=1)\n",
    "output_data = np.concatenate([x_data_output, y_data_output], axis=1)\n",
    "\n",
    "RNN_input_data = input_data.reshape(np.shape(input_data)[0], 1, np.shape(input_data)[1]).copy()\n",
    "x_data_output = x_data_output.tolist()\n",
    "y_data_output = y_data_output.tolist()\n",
    "print(x_data_output[0][0])\n",
    "RNN_output_data = []\n",
    "for i in range(np.shape(output_data)[0]):\n",
    "  List = []\n",
    "  for j in range(int(np.shape(output_data)[1]/2)):\n",
    "    List.append([x_data_output[i][j], y_data_output[i][j]])\n",
    "  RNN_output_data.append(List)\n",
    "#RNN_output_data = output_data.reshape(np.shape(output_data)[0], int(np.shape(output_data)[1]/2), 2).copy()\n",
    "\n",
    "RNN_output_data = np.array(RNN_output_data)\n",
    "print(RNN_input_data[1])\n",
    "print(RNN_output_data[1])"
   ]
  },
  {
   "cell_type": "code",
   "execution_count": 63,
   "metadata": {},
   "outputs": [],
   "source": [
    "class MyDataset(Dataset):\n",
    "    def __init__(self, input_data, output_data):\n",
    "        super(MyDataset, self).__init__()\n",
    "        self.input_data = input_data\n",
    "        self.output_data = output_data\n",
    "\n",
    "    def __getitem__(self, index):\n",
    "        input = torch.tensor(self.input_data[index], dtype=torch.float32)\n",
    "        output = torch.tensor(self.output_data[index], dtype=torch.float32)\n",
    "        return input, output\n",
    "\n",
    "    def __len__(self):\n",
    "        return len(self.input_data)"
   ]
  },
  {
   "cell_type": "code",
   "execution_count": 64,
   "metadata": {},
   "outputs": [],
   "source": [
    "train_valid_data = MyDataset(RNN_input_data, RNN_output_data)\n",
    "\n",
    "val_size = int(0.2 * len(train_valid_data))\n",
    "train_data, val_data = torch.utils.data.random_split(train_valid_data, [len(train_valid_data)-val_size, val_size])"
   ]
  },
  {
   "cell_type": "code",
   "execution_count": 65,
   "metadata": {},
   "outputs": [
    {
     "data": {
      "text/plain": [
       "5054"
      ]
     },
     "execution_count": 65,
     "metadata": {},
     "output_type": "execute_result"
    }
   ],
   "source": [
    "val_size"
   ]
  },
  {
   "cell_type": "code",
   "execution_count": 46,
   "metadata": {},
   "outputs": [
    {
     "data": {
      "text/plain": [
       "torch.Size([1, 6])"
      ]
     },
     "execution_count": 46,
     "metadata": {},
     "output_type": "execute_result"
    }
   ],
   "source": [
    "np.shape(train_data[0][0])"
   ]
  },
  {
   "cell_type": "code",
   "execution_count": 47,
   "metadata": {},
   "outputs": [
    {
     "data": {
      "text/plain": [
       "(tensor([[-0.7461, 27.2413, -1.6718, -2.0188,  1.2545,  0.8876]]),\n",
       " tensor([[-0.6568, -1.3992],\n",
       "         [-0.1552,  0.1336],\n",
       "         [ 0.7095,  1.0130],\n",
       "         [ 1.6441,  1.6488],\n",
       "         [ 2.6069,  2.1223],\n",
       "         [ 3.5904,  2.4765],\n",
       "         [ 4.5898,  2.7311],\n",
       "         [ 5.6009,  2.8967],\n",
       "         [ 6.6196,  2.9782],\n",
       "         [ 7.6480,  2.9773],\n",
       "         [ 8.6870,  2.8901],\n",
       "         [ 9.7471,  2.7052],\n",
       "         [10.8361,  2.3987],\n",
       "         [11.8532,  1.9691],\n",
       "         [12.7631,  1.4800],\n",
       "         [13.6179,  0.9556],\n",
       "         [14.4488,  0.4068],\n",
       "         [15.2748, -0.1556],\n",
       "         [16.1152, -0.7231],\n",
       "         [16.9947, -1.2871],\n",
       "         [17.9594, -1.8436],\n",
       "         [19.1079, -2.3844],\n",
       "         [20.1111, -2.6845],\n",
       "         [21.1344, -2.8872],\n",
       "         [22.1725, -2.9947],\n",
       "         [23.2412, -3.0058],\n",
       "         [24.3393, -2.9057],\n",
       "         [25.4910, -2.6645]]))"
      ]
     },
     "execution_count": 47,
     "metadata": {},
     "output_type": "execute_result"
    }
   ],
   "source": [
    "train_data[0]"
   ]
  },
  {
   "cell_type": "code",
   "execution_count": 48,
   "metadata": {},
   "outputs": [],
   "source": [
    "batch_size = 64\n",
    "\n",
    "dataloader_train = torch.utils.data.DataLoader(\n",
    "    train_data,\n",
    "    batch_size=batch_size,\n",
    "    shuffle=True\n",
    ")\n",
    "\n",
    "dataloader_valid = torch.utils.data.DataLoader(\n",
    "    val_data,\n",
    "    batch_size=batch_size,\n",
    "    shuffle=True\n",
    ")"
   ]
  },
  {
   "cell_type": "code",
   "execution_count": 49,
   "metadata": {},
   "outputs": [],
   "source": [
    "class LSTM(nn.Module):\n",
    "    def __init__(self, input_size, hidden_size, output_size, output_seq_length, num_layers):\n",
    "        super(LSTM, self).__init__()\n",
    "        self.hidden_size = hidden_size\n",
    "        self.output_seq_length = output_seq_length\n",
    "        self.num_layers = num_layers\n",
    "        self.lstm = nn.LSTM(input_size, hidden_size, num_layers=self.num_layers, batch_first=True)\n",
    "        self.fc = nn.Linear(hidden_size, output_size)\n",
    "\n",
    "    def forward(self, x):\n",
    "        #入力のsequence長さを出力のsequence長さに合わせるため拡張する\n",
    "        new_size = (x.size(0), self.output_seq_length, input_size)\n",
    "        x = x.expand(*new_size)\n",
    "        \n",
    "        h0 = torch.zeros(self.num_layers, x.size(0), self.hidden_size).to(x.device)\n",
    "        c0 = torch.zeros(self.num_layers, x.size(0), self.hidden_size).to(x.device)\n",
    "        \n",
    "        output, _ = self.lstm(x, (h0, c0))\n",
    "        output = self.fc(output)\n",
    "\n",
    "        return output"
   ]
  },
  {
   "cell_type": "code",
   "execution_count": 55,
   "metadata": {},
   "outputs": [],
   "source": [
    "# ハイパーパラメータの設定\n",
    "input_size = RNN_input_data.shape[2]\n",
    "hidden_size = 128\n",
    "output_size = RNN_output_data.shape[2]\n",
    "output_seq_length = RNN_output_data.shape[1]\n",
    "num_layers = 1\n",
    "learning_rate = 0.001\n",
    "num_epochs = 100\n",
    "\n",
    "# モデルの定義\n",
    "model = LSTM(input_size, hidden_size, output_size, output_seq_length, num_layers).to(device)"
   ]
  },
  {
   "cell_type": "code",
   "execution_count": 51,
   "metadata": {},
   "outputs": [
    {
     "name": "stdout",
     "output_type": "stream",
     "text": [
      "torch.Size([64, 28, 2])\n"
     ]
    }
   ],
   "source": [
    "#モデルの出力テスト\n",
    "input_test_data = torch.randn(batch_size, 1, input_size)\n",
    "input_test_data = input_test_data.to(device)\n",
    "output = model(input_test_data)\n",
    "print(output.size())"
   ]
  },
  {
   "cell_type": "code",
   "execution_count": 56,
   "metadata": {},
   "outputs": [
    {
     "name": "stdout",
     "output_type": "stream",
     "text": [
      "Epoch [1/100], Loss: 1.1555, val_loss: 0.5098\n",
      "Epoch [2/100], Loss: 0.2657, val_loss: 0.1268\n",
      "Epoch [3/100], Loss: 0.0858, val_loss: 0.0633\n",
      "Epoch [4/100], Loss: 0.0470, val_loss: 0.0407\n",
      "Epoch [5/100], Loss: 0.0364, val_loss: 0.0334\n",
      "Epoch [6/100], Loss: 0.0310, val_loss: 0.0360\n",
      "Epoch [7/100], Loss: 0.0287, val_loss: 0.0338\n",
      "Epoch [8/100], Loss: 0.0278, val_loss: 0.0262\n",
      "Epoch [9/100], Loss: 0.0262, val_loss: 0.0362\n",
      "Epoch [10/100], Loss: 0.0268, val_loss: 0.0266\n",
      "Epoch [11/100], Loss: 0.0243, val_loss: 0.0235\n",
      "Epoch [12/100], Loss: 0.0248, val_loss: 0.0370\n",
      "Epoch [13/100], Loss: 0.0275, val_loss: 0.0229\n",
      "Epoch [14/100], Loss: 0.0235, val_loss: 0.0229\n",
      "Epoch [15/100], Loss: 0.0229, val_loss: 0.0233\n",
      "Epoch [16/100], Loss: 0.0229, val_loss: 0.0229\n",
      "Epoch [17/100], Loss: 0.0231, val_loss: 0.0226\n",
      "Epoch [18/100], Loss: 0.0229, val_loss: 0.0234\n",
      "Epoch [19/100], Loss: 0.0225, val_loss: 0.0218\n",
      "Epoch [20/100], Loss: 0.0220, val_loss: 0.0210\n",
      "Epoch [21/100], Loss: 0.0220, val_loss: 0.0215\n",
      "Epoch [22/100], Loss: 0.0220, val_loss: 0.0224\n",
      "Epoch [23/100], Loss: 0.0222, val_loss: 0.0213\n",
      "Epoch [24/100], Loss: 0.0224, val_loss: 0.0221\n",
      "Epoch [25/100], Loss: 0.0213, val_loss: 0.0210\n",
      "Epoch [26/100], Loss: 0.0210, val_loss: 0.0205\n",
      "Epoch [27/100], Loss: 0.0210, val_loss: 0.0204\n",
      "Epoch [28/100], Loss: 0.0209, val_loss: 0.0213\n",
      "Epoch [29/100], Loss: 0.0206, val_loss: 0.0229\n",
      "Epoch [30/100], Loss: 0.0206, val_loss: 0.0225\n",
      "Epoch [31/100], Loss: 0.0213, val_loss: 0.0253\n",
      "Epoch [32/100], Loss: 0.0212, val_loss: 0.0218\n",
      "Epoch [33/100], Loss: 0.0206, val_loss: 0.0232\n",
      "Epoch [34/100], Loss: 0.0219, val_loss: 0.0215\n",
      "Epoch [35/100], Loss: 0.0208, val_loss: 0.0232\n",
      "Epoch [36/100], Loss: 0.0221, val_loss: 0.0224\n",
      "Epoch [37/100], Loss: 0.0202, val_loss: 0.0209\n",
      "Epoch [38/100], Loss: 0.0211, val_loss: 0.0288\n",
      "Epoch [39/100], Loss: 0.0218, val_loss: 0.0200\n",
      "Epoch [40/100], Loss: 0.0203, val_loss: 0.0247\n",
      "Epoch [41/100], Loss: 0.0218, val_loss: 0.0214\n",
      "Epoch [42/100], Loss: 0.0202, val_loss: 0.0212\n",
      "Epoch [43/100], Loss: 0.0201, val_loss: 0.0209\n",
      "Epoch [44/100], Loss: 0.0200, val_loss: 0.0218\n",
      "Epoch [45/100], Loss: 0.0199, val_loss: 0.0200\n",
      "Epoch [46/100], Loss: 0.0207, val_loss: 0.0219\n",
      "Epoch [47/100], Loss: 0.0225, val_loss: 0.0272\n",
      "Epoch [48/100], Loss: 0.0206, val_loss: 0.0199\n",
      "Epoch [49/100], Loss: 0.0192, val_loss: 0.0207\n",
      "Epoch [50/100], Loss: 0.0191, val_loss: 0.0216\n",
      "Epoch [51/100], Loss: 0.0192, val_loss: 0.0215\n",
      "Epoch [52/100], Loss: 0.0195, val_loss: 0.0213\n",
      "Epoch [53/100], Loss: 0.0189, val_loss: 0.0195\n",
      "Epoch [54/100], Loss: 0.0191, val_loss: 0.0223\n",
      "Epoch [55/100], Loss: 0.0196, val_loss: 0.0235\n",
      "Epoch [56/100], Loss: 0.0194, val_loss: 0.0223\n",
      "Epoch [57/100], Loss: 0.0217, val_loss: 0.0221\n",
      "Epoch [58/100], Loss: 0.0194, val_loss: 0.0201\n",
      "Epoch [59/100], Loss: 0.0192, val_loss: 0.0205\n",
      "Epoch [60/100], Loss: 0.0190, val_loss: 0.0202\n",
      "Epoch [61/100], Loss: 0.0188, val_loss: 0.0199\n",
      "Epoch [62/100], Loss: 0.0190, val_loss: 0.0210\n",
      "Epoch [63/100], Loss: 0.0189, val_loss: 0.0205\n",
      "Epoch [64/100], Loss: 0.0187, val_loss: 0.0196\n",
      "Epoch [65/100], Loss: 0.0189, val_loss: 0.0199\n",
      "Epoch [66/100], Loss: 0.0187, val_loss: 0.0202\n",
      "Epoch [67/100], Loss: 0.0188, val_loss: 0.0224\n",
      "Epoch [68/100], Loss: 0.0191, val_loss: 0.0203\n",
      "Epoch [69/100], Loss: 0.0187, val_loss: 0.0205\n",
      "Epoch [70/100], Loss: 0.0186, val_loss: 0.0206\n",
      "Epoch [71/100], Loss: 0.0185, val_loss: 0.0197\n",
      "Epoch [72/100], Loss: 0.0215, val_loss: 0.0196\n",
      "Epoch [73/100], Loss: 0.0190, val_loss: 0.0199\n",
      "Epoch [74/100], Loss: 0.0196, val_loss: 0.0223\n",
      "Epoch [75/100], Loss: 0.0188, val_loss: 0.0230\n",
      "Epoch [76/100], Loss: 0.0188, val_loss: 0.0209\n",
      "Epoch [77/100], Loss: 0.0190, val_loss: 0.0206\n",
      "Epoch [78/100], Loss: 0.0188, val_loss: 0.0213\n",
      "Epoch [79/100], Loss: 0.0198, val_loss: 0.0276\n",
      "Epoch [80/100], Loss: 0.0205, val_loss: 0.0204\n",
      "Epoch [81/100], Loss: 0.0182, val_loss: 0.0198\n",
      "Epoch [82/100], Loss: 0.0177, val_loss: 0.0194\n",
      "Epoch [83/100], Loss: 0.0180, val_loss: 0.0200\n",
      "Epoch [84/100], Loss: 0.0192, val_loss: 0.0215\n",
      "Epoch [85/100], Loss: 0.0187, val_loss: 0.0195\n",
      "Epoch [86/100], Loss: 0.0179, val_loss: 0.0207\n",
      "Epoch [87/100], Loss: 0.0189, val_loss: 0.0216\n",
      "Epoch [88/100], Loss: 0.0188, val_loss: 0.0204\n",
      "Epoch [89/100], Loss: 0.0199, val_loss: 0.0204\n",
      "Epoch [90/100], Loss: 0.0187, val_loss: 0.0192\n",
      "Epoch [91/100], Loss: 0.0176, val_loss: 0.0209\n",
      "Epoch [92/100], Loss: 0.0182, val_loss: 0.0193\n",
      "Epoch [93/100], Loss: 0.0181, val_loss: 0.0207\n",
      "Epoch [94/100], Loss: 0.0183, val_loss: 0.0204\n",
      "Epoch [95/100], Loss: 0.0171, val_loss: 0.0230\n",
      "Epoch [96/100], Loss: 0.0195, val_loss: 0.0217\n",
      "Epoch [97/100], Loss: 0.0186, val_loss: 0.0188\n",
      "Epoch [98/100], Loss: 0.0173, val_loss: 0.0200\n",
      "Epoch [99/100], Loss: 0.0176, val_loss: 0.0199\n",
      "Epoch [100/100], Loss: 0.0173, val_loss: 0.0234\n"
     ]
    }
   ],
   "source": [
    "# 損失関数の定義\n",
    "criterion = nn.MSELoss()\n",
    "\n",
    "# オプティマイザの定義\n",
    "optimizer = torch.optim.Adam(model.parameters(), lr=learning_rate)\n",
    "\n",
    "#トレーニングの開始\n",
    "train_loss_list, val_loss_list = [], []\n",
    "\n",
    "for epoch in range(num_epochs):\n",
    "    train_loss, val_loss = 0, 0\n",
    "    \n",
    "    #train_mode\n",
    "    model.train()\n",
    "    for i, (input_data, output_data) in enumerate(dataloader_train):\n",
    "        # データをGPUに転送\n",
    "        input_data, output_data = input_data.to(device), output_data.to(device)\n",
    "        \n",
    "        # モデルの出力を計算\n",
    "        output = model(input_data)\n",
    "        \n",
    "        # 損失関数の適用\n",
    "        loss = criterion(output, output_data)\n",
    "        \n",
    "        #train_lossに結果を蓄積\n",
    "        train_loss += loss.item()\n",
    "        \n",
    "        # 勾配を初期化して逆伝播\n",
    "        optimizer.zero_grad()\n",
    "        loss.backward()\n",
    "        optimizer.step()\n",
    "        \n",
    "        # lossの平均を計算\n",
    "        avg_train_loss = train_loss / len(dataloader_train.dataset)  \n",
    "        \n",
    "    #valid_mode\n",
    "    model.eval()\n",
    "    with torch.no_grad():\n",
    "        for input_data, output_data in dataloader_valid:\n",
    "            # データをGPUに転送\n",
    "            input_data, output_data = input_data.to(device), output_data.to(device)\n",
    "            \n",
    "            # モデルの出力を計算\n",
    "            output = model(input_data)\n",
    "            \n",
    "            # 損失関数の適用\n",
    "            loss = criterion(output, output_data)\n",
    "        \n",
    "            #val_lossに結果を蓄積\n",
    "            val_loss += loss.item()\n",
    "    \n",
    "    # lossの平均を計算      \n",
    "    avg_val_loss = val_loss / len(dataloader_valid.dataset)\n",
    "    \n",
    "    # print log\n",
    "    print ('Epoch [{}/{}], Loss: {loss:.4f}, val_loss: {val_loss:.4f}'.format(epoch+1, num_epochs, i+1, loss=avg_train_loss, val_loss=avg_val_loss))\n",
    "    \n",
    "    # append list for polt graph after training\n",
    "    train_loss_list.append(avg_train_loss)\n",
    "    val_loss_list.append(avg_val_loss)"
   ]
  },
  {
   "cell_type": "code",
   "execution_count": 57,
   "metadata": {},
   "outputs": [
    {
     "data": {
      "image/png": "[encoded data removed]",
      "text/plain": [
       "<Figure size 640x480 with 1 Axes>"
      ]
     },
     "metadata": {},
     "output_type": "display_data"
    }
   ],
   "source": [
    "plt.figure()\n",
    "plt.plot(range(num_epochs), train_loss_list, color='blue', linestyle='-', label='train_loss')\n",
    "plt.plot(range(num_epochs), val_loss_list, color='green', linestyle='--', label='val_loss')\n",
    "plt.legend()\n",
    "plt.xlabel('epoch')\n",
    "plt.ylabel('loss')\n",
    "plt.title('Training and validation loss')\n",
    "plt.grid()"
   ]
  },
  {
   "cell_type": "code",
   "execution_count": 58,
   "metadata": {},
   "outputs": [],
   "source": [
    "#save model\n",
    "torch.save(model.state_dict(), '../saved_models/LSTM_env1_first_quantile.pth')"
   ]
  },
  {
   "cell_type": "code",
   "execution_count": 74,
   "metadata": {},
   "outputs": [
    {
     "name": "stdout",
     "output_type": "stream",
     "text": [
      "LSTM(\n",
      "  (lstm): LSTM(6, 128, batch_first=True)\n",
      "  (fc): Linear(in_features=128, out_features=2, bias=True)\n",
      ")\n"
     ]
    }
   ],
   "source": [
    "#read model\n",
    "model = LSTM(input_size, hidden_size, output_size, output_seq_length, num_layers).to(device)\n",
    "model.load_state_dict(torch.load('../saved_models/LSTM_env1_first_quantile.pth'))\n",
    "print(model)"
   ]
  },
  {
   "cell_type": "code",
   "execution_count": 75,
   "metadata": {},
   "outputs": [],
   "source": [
    "class TestDataset(Dataset):\n",
    "    def __init__(self, test_data):\n",
    "        self.test_data = test_data\n",
    "\n",
    "    def __len__(self):\n",
    "        return len(self.test_data)\n",
    "\n",
    "    def __getitem__(self, index):\n",
    "        input = torch.tensor(self.test_data[index], dtype=torch.float32)\n",
    "        output = 0\n",
    "        return input, output"
   ]
  },
  {
   "cell_type": "code",
   "execution_count": 97,
   "metadata": {},
   "outputs": [
    {
     "name": "stdout",
     "output_type": "stream",
     "text": [
      "初期姿勢：-33°, 終端姿勢：41°\n"
     ]
    },
    {
     "data": {
      "image/png": "[encoded data removed]",
      "text/plain": [
       "<Figure size 640x480 with 1 Axes>"
      ]
     },
     "metadata": {},
     "output_type": "display_data"
    }
   ],
   "source": [
    "#test_pathの表示\n",
    "import plot\n",
    "import random\n",
    "\n",
    "#入力のサンプリング\n",
    "x_start = (random.uniform(-2, 4), random.uniform(-3, 3))  # Starting node\n",
    "x_goal = (random.uniform(26, 32), random.uniform(-3, 3))  # Goal node\n",
    "\n",
    "#env1用\n",
    "theta_start = random.uniform(-np.pi/2, np.pi/2)\n",
    "theta_goal = random.uniform(-np.pi/2, np.pi/2)\n",
    "\"\"\"\n",
    "#env2用\n",
    "theta_start = random.uniform(np.pi/4, np.pi*3/4)\n",
    "theta_goal = random.uniform(np.pi/4, np.pi*3/4)\n",
    "\"\"\"\n",
    "test_data = np.array([[[x_start[0], x_goal[0], x_start[1], x_goal[1], theta_start, theta_goal]]])\n",
    "\n",
    "test_data = TestDataset(test_data)\n",
    "test_loader = torch.utils.data.DataLoader(test_data, batch_size=1, shuffle=False)\n",
    "\n",
    "#予測モード\n",
    "model.eval()\n",
    "with torch.no_grad():\n",
    "    input_data, _ = next(iter(test_loader))\n",
    "    input_data = input_data.to(device)\n",
    "    output = model(input_data)\n",
    "\n",
    "\n",
    "output = output.cpu().numpy()\n",
    "\n",
    "test_x_path = np.array([])\n",
    "test_y_path = np.array([])\n",
    "for i in range(output.shape[1]):\n",
    "    test_x_path = np.append(test_x_path, output[0, i, 0])\n",
    "    test_y_path = np.append(test_y_path, output[0, i, 1])\n",
    "    \n",
    "test_x_path = np.append(test_x_path, x_goal[0])\n",
    "test_x_path = np.append(x_start[0], test_x_path)\n",
    "test_y_path = np.append(test_y_path, x_goal[1])\n",
    "test_y_path = np.append(x_start[1], test_y_path)\n",
    "\n",
    "print(\"初期姿勢：{}°, 終端姿勢：{}°\".format(int(np.degrees(theta_start)), int(np.degrees(theta_goal))))\n",
    "plot.vis_path_env1(test_x_path, test_y_path)"
   ]
  },
  {
   "cell_type": "code",
   "execution_count": null,
   "metadata": {},
   "outputs": [],
   "source": []
  }
 ],
 "metadata": {
  "kernelspec": {
   "display_name": "Python 3",
   "language": "python",
   "name": "python3"
  },
  "language_info": {
   "codemirror_mode": {
    "name": "ipython",
    "version": 3
   },
   "file_extension": ".py",
   "mimetype": "text/x-python",
   "name": "python",
   "nbconvert_exporter": "python",
   "pygments_lexer": "ipython3",
   "version": "3.10.6"
  },
  "orig_nbformat": 4
 },
 "nbformat": 4,
 "nbformat_minor": 2
}
