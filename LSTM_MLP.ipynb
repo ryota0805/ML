{
 "cells": [
  {
   "cell_type": "code",
   "execution_count": 1,
   "metadata": {},
   "outputs": [
    {
     "name": "stdout",
     "output_type": "stream",
     "text": [
      "NVIDIA RTX A2000 8GB Laptop GPU\n",
      "2.0.0+cu118 True\n",
      "cuda:0\n"
     ]
    }
   ],
   "source": [
    "import torch\n",
    "import torch.nn as nn\n",
    "from torch.utils.data import Dataset, DataLoader, random_split\n",
    "\n",
    "print(torch.cuda.get_device_name())\n",
    "print(torch.__version__, torch.cuda.is_available())\n",
    "device = torch.device('cuda:0' if torch.cuda.is_available() else 'cpu')\n",
    "print(device)"
   ]
  },
  {
   "cell_type": "code",
   "execution_count": 2,
   "metadata": {},
   "outputs": [],
   "source": [
    "import numpy as np\n",
    "import matplotlib.pyplot as plt\n",
    "import pandas as pd"
   ]
  },
  {
   "cell_type": "code",
   "execution_count": 3,
   "metadata": {},
   "outputs": [],
   "source": [
    "x_data = pd.read_csv('../data/env1/first_quantile/first_quantile_x.csv', delimiter=',',encoding=\"utf-8-sig\", header=None).values.tolist()\n",
    "y_data = pd.read_csv('../data/env1/first_quantile/first_quantile_y.csv', delimiter=',',encoding=\"utf-8-sig\", header=None).values.tolist()\n",
    "theta_data = pd.read_csv('../data/env1/first_quantile/first_quantile_theta.csv', delimiter=',',encoding=\"utf-8-sig\", header=None).values.tolist()"
   ]
  },
  {
   "cell_type": "code",
   "execution_count": 4,
   "metadata": {},
   "outputs": [],
   "source": [
    "#make input data and ouptput data\n",
    "input_data_1 = []\n",
    "input_data_2 = []\n",
    "output_data = []\n",
    "max_seqence_length = 29\n",
    "for i in range(np.shape(x_data)[0]):\n",
    "    input_data_2_list = [x_data[i][0], x_data[i][-1], y_data[i][0], y_data[i][-1], theta_data[i][0], theta_data[i][-1]]\n",
    "    for j in range(1, np.shape(x_data)[1]):\n",
    "        x = x_data[i][0:j]\n",
    "        y = y_data[i][0:j]\n",
    "        input_data_1_list = []\n",
    "        for k in range(len(x)):\n",
    "            input_data_1_list.append([x[k], y[k]])\n",
    "        for l in range(max_seqence_length-len(x)):\n",
    "            input_data_1_list.append([0, 0])\n",
    "        input_data_1.append(input_data_1_list)\n",
    "        input_data_2.append(input_data_2_list)\n",
    "        output_data.append([x_data[i][j], y_data[i][j]])\n"
   ]
  },
  {
   "cell_type": "code",
   "execution_count": 5,
   "metadata": {},
   "outputs": [],
   "source": [
    "class MyDataset(Dataset):\n",
    "    def __init__(self, input_data_1, input_data_2, output_data):\n",
    "        super(MyDataset, self).__init__()\n",
    "        self.input_data_1 = input_data_1\n",
    "        self.input_data_2 = input_data_2\n",
    "        self.output_data = output_data\n",
    "\n",
    "    def __getitem__(self, index):\n",
    "        input_1 = torch.tensor(self.input_data_1[index], dtype=torch.float32)\n",
    "        input_2 = torch.tensor(self.input_data_2[index], dtype=torch.float32)\n",
    "        output = torch.tensor(self.output_data[index], dtype=torch.float32)\n",
    "        return input_1, input_2, output\n",
    "\n",
    "    def __len__(self):\n",
    "        return len(self.input_data_1)"
   ]
  },
  {
   "cell_type": "code",
   "execution_count": 6,
   "metadata": {},
   "outputs": [],
   "source": [
    "train_valid_data = MyDataset(input_data_1, input_data_2, output_data)\n",
    "\n",
    "val_size = int(0.2 * len(train_valid_data))\n",
    "train_data, val_data = torch.utils.data.random_split(train_valid_data, [len(train_valid_data)-val_size, val_size])"
   ]
  },
  {
   "cell_type": "code",
   "execution_count": 7,
   "metadata": {},
   "outputs": [
    {
     "data": {
      "text/plain": [
       "36679"
      ]
     },
     "execution_count": 7,
     "metadata": {},
     "output_type": "execute_result"
    }
   ],
   "source": [
    "val_size"
   ]
  },
  {
   "cell_type": "code",
   "execution_count": 8,
   "metadata": {},
   "outputs": [],
   "source": [
    "batch_size = 256\n",
    "\n",
    "dataloader_train = torch.utils.data.DataLoader(\n",
    "    train_data,\n",
    "    batch_size=batch_size,\n",
    "    shuffle=True\n",
    ")\n",
    "\n",
    "dataloader_valid = torch.utils.data.DataLoader(\n",
    "    val_data,\n",
    "    batch_size=batch_size,\n",
    "    shuffle=True\n",
    ")"
   ]
  },
  {
   "cell_type": "code",
   "execution_count": 37,
   "metadata": {},
   "outputs": [
    {
     "name": "stdout",
     "output_type": "stream",
     "text": [
      "torch.Size([256, 29, 2])\n"
     ]
    }
   ],
   "source": [
    "# dataの取り出し\n",
    "Iter = dataloader_train.__iter__()\n",
    "input_data1, input_data2, output_data = next(Iter)\n",
    "\n",
    "print(input_data1.size())"
   ]
  },
  {
   "cell_type": "code",
   "execution_count": 163,
   "metadata": {},
   "outputs": [
    {
     "name": "stdout",
     "output_type": "stream",
     "text": [
      "<class 'torch.Tensor'>\n",
      "2\n",
      "torch.Size([256, 29, 10])\n"
     ]
    }
   ],
   "source": [
    "m = nn.LSTM(2, 32, num_layers=1, batch_first=True)\n",
    "output, hidden_state = m(input_data1)\n",
    "print(type(output))\n",
    "print(hidden_state)\n",
    "mm = nn.Linear(32, 10)\n",
    "output1 = mm(output)\n",
    "print(np.shape(output1))"
   ]
  },
  {
   "cell_type": "code",
   "execution_count": 12,
   "metadata": {},
   "outputs": [],
   "source": [
    "class LSTM_MLP(nn.Module):\n",
    "    \n",
    "    def __init__(\n",
    "        self, \n",
    "        input1_size, \n",
    "        input2_size, \n",
    "        input_size,\n",
    "        hidden1_size, \n",
    "        hidden2_size, \n",
    "        hidden_size,\n",
    "        output1_size, \n",
    "        output2_size, \n",
    "        output_size,\n",
    "        num_layers\n",
    "        ):\n",
    "        \n",
    "        super(LSTM_MLP, self).__init__()\n",
    "        self.hidden1_size = hidden1_size\n",
    "        self.num_layers = num_layers\n",
    "        \n",
    "        self.lstm = nn.LSTM(input1_size, hidden1_size, num_layers=self.num_layers, batch_first=True)\n",
    "        self.fc = nn.Linear(hidden1_size, output1_size)\n",
    "        \n",
    "        self.mlp1 = nn.Sequential(\n",
    "            nn.Linear(input2_size, hidden2_size),\n",
    "            nn.ReLU(),\n",
    "            nn.Linear(hidden2_size, hidden2_size),\n",
    "            nn.ReLU(),\n",
    "            nn.Linear(hidden2_size, output2_size)\n",
    "        )\n",
    "        \n",
    "        self.mlp2 = nn.Sequential(\n",
    "            nn.Linear(input_size, hidden_size),\n",
    "            nn.ReLU(),\n",
    "            nn.Linear(hidden_size, hidden_size),\n",
    "            nn.ReLU(),\n",
    "            nn.Linear(hidden_size, output_size)\n",
    "        )\n",
    "        \n",
    "    def forward(self, input1, input2):\n",
    "        #RNN for input1\n",
    "        h0 = torch.zeros(self.num_layers, input1.size(0), self.hidden1_size).to(input1.device)\n",
    "        c0 = torch.zeros(self.num_layers, input1.size(0), self.hidden1_size).to(input1.device)\n",
    "        \n",
    "        output1, _ = self.lstm(input1, (h0, c0))\n",
    "        output1 = self.fc(output1)\n",
    "\n",
    "        #MLP for input2\n",
    "        output2 = self.mlp1(input2)\n",
    "        \n",
    "        #output1とoutput2の結合\n",
    "        output1 = output1.view(output1.size(0), -1)\n",
    "        input = torch.cat((output1, output2), dim=1)\n",
    "        \n",
    "        #final MLP\n",
    "        output = self.mlp2(input)\n",
    "        \n",
    "        return output"
   ]
  },
  {
   "cell_type": "code",
   "execution_count": 128,
   "metadata": {},
   "outputs": [],
   "source": [
    "#model test\n",
    "input1_size =  2\n",
    "input2_size = 6\n",
    "input_size = 29 * 2 + 16\n",
    "hidden1_size = 32\n",
    "hidden2_size = 32\n",
    "hidden_size = 32\n",
    "output1_size = 2\n",
    "output2_size = 16\n",
    "output_size = 2\n",
    "num_layers = 1\n",
    "\n",
    "model = LSTM_MLP(\n",
    "        input1_size, \n",
    "        input2_size, \n",
    "        input_size,\n",
    "        hidden1_size, \n",
    "        hidden2_size, \n",
    "        hidden_size,\n",
    "        output1_size, \n",
    "        output2_size, \n",
    "        output_size,\n",
    "        num_layers\n",
    "        ).to(device)"
   ]
  },
  {
   "cell_type": "code",
   "execution_count": 13,
   "metadata": {},
   "outputs": [
    {
     "ename": "NameError",
     "evalue": "name 'model' is not defined",
     "output_type": "error",
     "traceback": [
      "\u001b[0;31m---------------------------------------------------------------------------\u001b[0m",
      "\u001b[0;31mNameError\u001b[0m                                 Traceback (most recent call last)",
      "Cell \u001b[0;32mIn[13], line 4\u001b[0m\n\u001b[1;32m      2\u001b[0m input_data1, input_data2, output_data \u001b[39m=\u001b[39m \u001b[39mnext\u001b[39m(Iter)\n\u001b[1;32m      3\u001b[0m input_data1, input_data2 \u001b[39m=\u001b[39m input_data1\u001b[39m.\u001b[39mto(device), input_data2\u001b[39m.\u001b[39mto(device)\n\u001b[0;32m----> 4\u001b[0m output \u001b[39m=\u001b[39m model(input_data1, input_data2)\n\u001b[1;32m      5\u001b[0m \u001b[39mprint\u001b[39m(np\u001b[39m.\u001b[39mshape(output))\n",
      "\u001b[0;31mNameError\u001b[0m: name 'model' is not defined"
     ]
    }
   ],
   "source": [
    "Iter = dataloader_train.__iter__()\n",
    "input_data1, input_data2, output_data = next(Iter)\n",
    "input_data1, input_data2 = input_data1.to(device), input_data2.to(device)\n",
    "output = model(input_data1, input_data2)\n",
    "print(np.shape(output))"
   ]
  },
  {
   "cell_type": "code",
   "execution_count": 14,
   "metadata": {},
   "outputs": [],
   "source": [
    "#ハイパーパラメータの設定\n",
    "input1_size =  2\n",
    "hidden1_size = 64\n",
    "output1_size = 2\n",
    "\n",
    "input2_size = 6\n",
    "hidden2_size = 32\n",
    "output2_size = 16\n",
    "\n",
    "input_size = 29 * output1_size + output2_size\n",
    "hidden_size = 32\n",
    "output_size = 2\n",
    "\n",
    "num_layers = 1\n",
    "learning_rate = 0.001\n",
    "num_epochs = 50\n",
    "\n",
    "\n",
    "# モデルの定義\n",
    "model = LSTM_MLP(\n",
    "        input1_size, \n",
    "        input2_size, \n",
    "        input_size,\n",
    "        hidden1_size, \n",
    "        hidden2_size, \n",
    "        hidden_size,\n",
    "        output1_size, \n",
    "        output2_size, \n",
    "        output_size,\n",
    "        num_layers\n",
    "        ).to(device)"
   ]
  },
  {
   "cell_type": "code",
   "execution_count": 15,
   "metadata": {},
   "outputs": [
    {
     "name": "stdout",
     "output_type": "stream",
     "text": [
      "Epoch [1/50], Loss: 0.0514, val_loss: 0.0019\n",
      "Epoch [2/50], Loss: 0.0014, val_loss: 0.0012\n",
      "Epoch [3/50], Loss: 0.0009, val_loss: 0.0008\n",
      "Epoch [4/50], Loss: 0.0006, val_loss: 0.0007\n",
      "Epoch [5/50], Loss: 0.0005, val_loss: 0.0005\n",
      "Epoch [6/50], Loss: 0.0005, val_loss: 0.0005\n",
      "Epoch [7/50], Loss: 0.0004, val_loss: 0.0004\n",
      "Epoch [8/50], Loss: 0.0004, val_loss: 0.0004\n",
      "Epoch [9/50], Loss: 0.0003, val_loss: 0.0004\n",
      "Epoch [10/50], Loss: 0.0003, val_loss: 0.0003\n",
      "Epoch [11/50], Loss: 0.0003, val_loss: 0.0003\n",
      "Epoch [12/50], Loss: 0.0003, val_loss: 0.0003\n",
      "Epoch [13/50], Loss: 0.0003, val_loss: 0.0004\n",
      "Epoch [14/50], Loss: 0.0002, val_loss: 0.0003\n",
      "Epoch [15/50], Loss: 0.0002, val_loss: 0.0002\n",
      "Epoch [16/50], Loss: 0.0002, val_loss: 0.0002\n",
      "Epoch [17/50], Loss: 0.0002, val_loss: 0.0002\n",
      "Epoch [18/50], Loss: 0.0002, val_loss: 0.0003\n",
      "Epoch [19/50], Loss: 0.0002, val_loss: 0.0002\n",
      "Epoch [20/50], Loss: 0.0002, val_loss: 0.0003\n",
      "Epoch [21/50], Loss: 0.0002, val_loss: 0.0002\n",
      "Epoch [22/50], Loss: 0.0002, val_loss: 0.0002\n",
      "Epoch [23/50], Loss: 0.0002, val_loss: 0.0002\n",
      "Epoch [24/50], Loss: 0.0002, val_loss: 0.0003\n",
      "Epoch [25/50], Loss: 0.0002, val_loss: 0.0002\n",
      "Epoch [26/50], Loss: 0.0002, val_loss: 0.0002\n",
      "Epoch [27/50], Loss: 0.0002, val_loss: 0.0003\n",
      "Epoch [28/50], Loss: 0.0002, val_loss: 0.0002\n",
      "Epoch [29/50], Loss: 0.0002, val_loss: 0.0002\n",
      "Epoch [30/50], Loss: 0.0002, val_loss: 0.0002\n",
      "Epoch [31/50], Loss: 0.0001, val_loss: 0.0002\n",
      "Epoch [32/50], Loss: 0.0001, val_loss: 0.0002\n",
      "Epoch [33/50], Loss: 0.0001, val_loss: 0.0002\n",
      "Epoch [34/50], Loss: 0.0001, val_loss: 0.0001\n",
      "Epoch [35/50], Loss: 0.0001, val_loss: 0.0002\n",
      "Epoch [36/50], Loss: 0.0001, val_loss: 0.0002\n",
      "Epoch [37/50], Loss: 0.0001, val_loss: 0.0002\n",
      "Epoch [38/50], Loss: 0.0001, val_loss: 0.0002\n",
      "Epoch [39/50], Loss: 0.0001, val_loss: 0.0002\n",
      "Epoch [40/50], Loss: 0.0001, val_loss: 0.0002\n",
      "Epoch [41/50], Loss: 0.0001, val_loss: 0.0002\n",
      "Epoch [42/50], Loss: 0.0001, val_loss: 0.0002\n",
      "Epoch [43/50], Loss: 0.0001, val_loss: 0.0001\n",
      "Epoch [44/50], Loss: 0.0001, val_loss: 0.0002\n",
      "Epoch [45/50], Loss: 0.0001, val_loss: 0.0001\n",
      "Epoch [46/50], Loss: 0.0001, val_loss: 0.0002\n",
      "Epoch [47/50], Loss: 0.0001, val_loss: 0.0001\n",
      "Epoch [48/50], Loss: 0.0001, val_loss: 0.0002\n",
      "Epoch [49/50], Loss: 0.0001, val_loss: 0.0001\n",
      "Epoch [50/50], Loss: 0.0001, val_loss: 0.0001\n"
     ]
    }
   ],
   "source": [
    "# 損失関数の定義\n",
    "criterion = nn.MSELoss()\n",
    "\n",
    "# オプティマイザの定義\n",
    "optimizer = torch.optim.Adam(model.parameters(), lr=learning_rate)\n",
    "\n",
    "#トレーニングの開始\n",
    "train_loss_list, val_loss_list = [], []\n",
    "\n",
    "for epoch in range(num_epochs):\n",
    "    train_loss, val_loss = 0, 0\n",
    "    \n",
    "    #train_mode\n",
    "    model.train()\n",
    "    for i, (input_data_1, input_data_2, output_data) in enumerate(dataloader_train):\n",
    "        # データをGPUに転送\n",
    "        input_data_1, input_data_2, output_data = input_data_1.to(device), input_data_2.to(device), output_data.to(device)\n",
    "        \n",
    "        # モデルの出力を計算\n",
    "        output = model(input_data_1, input_data_2)\n",
    "        \n",
    "        # 損失関数の適用\n",
    "        loss = criterion(output, output_data)\n",
    "        \n",
    "        #train_lossに結果を蓄積\n",
    "        train_loss += loss.item()\n",
    "        \n",
    "        # 勾配を初期化して逆伝播\n",
    "        optimizer.zero_grad()\n",
    "        loss.backward()\n",
    "        optimizer.step()\n",
    "        \n",
    "        # lossの平均を計算\n",
    "        avg_train_loss = train_loss  / len(dataloader_train.dataset)\n",
    "        \n",
    "    #valid_mode\n",
    "    model.eval()\n",
    "    with torch.no_grad():\n",
    "        for input_data_1, input_data_2, output_data in dataloader_valid:\n",
    "            # データをGPUに転送\n",
    "            input_data_1, input_data_2, output_data = input_data_1.to(device), input_data_2.to(device), output_data.to(device)\n",
    "            \n",
    "            # モデルの出力を計算\n",
    "            output = model(input_data_1, input_data_2)\n",
    "            \n",
    "            # 損失関数の適用\n",
    "            loss = criterion(output, output_data)\n",
    "        \n",
    "            #val_lossに結果を蓄積\n",
    "            val_loss += loss.item()\n",
    "    \n",
    "    # lossの平均を計算      \n",
    "    avg_val_loss = val_loss / len(dataloader_valid.dataset)\n",
    "    \n",
    "    # print log\n",
    "    print ('Epoch [{}/{}], Loss: {loss:.4f}, val_loss: {val_loss:.4f}'.format(epoch+1, num_epochs, i+1, loss=avg_train_loss, val_loss=avg_val_loss))\n",
    "    \n",
    "    # append list for polt graph after training\n",
    "    train_loss_list.append(avg_train_loss)\n",
    "    val_loss_list.append(avg_val_loss)"
   ]
  },
  {
   "cell_type": "code",
   "execution_count": 16,
   "metadata": {},
   "outputs": [
    {
     "data": {
      "image/png": "[encoded data removed]",
      "text/plain": [
       "<Figure size 640x480 with 1 Axes>"
      ]
     },
     "metadata": {},
     "output_type": "display_data"
    }
   ],
   "source": [
    "plt.figure()\n",
    "plt.plot(range(num_epochs), train_loss_list, color='blue', linestyle='-', label='train_loss')\n",
    "plt.plot(range(num_epochs), val_loss_list, color='green', linestyle='--', label='val_loss')\n",
    "plt.legend()\n",
    "plt.xlabel('epoch')\n",
    "plt.ylabel('loss')\n",
    "plt.title('Training and validation loss')\n",
    "plt.grid()"
   ]
  },
  {
   "cell_type": "code",
   "execution_count": 17,
   "metadata": {},
   "outputs": [],
   "source": [
    "#save model\n",
    "torch.save(model.state_dict(), '../saved_models/LSTM_MLP_env1_first_quantile.pth')"
   ]
  },
  {
   "cell_type": "code",
   "execution_count": 19,
   "metadata": {},
   "outputs": [
    {
     "name": "stdout",
     "output_type": "stream",
     "text": [
      "LSTM_MLP(\n",
      "  (lstm): LSTM(2, 64, batch_first=True)\n",
      "  (fc): Linear(in_features=64, out_features=2, bias=True)\n",
      "  (mlp1): Sequential(\n",
      "    (0): Linear(in_features=6, out_features=32, bias=True)\n",
      "    (1): ReLU()\n",
      "    (2): Linear(in_features=32, out_features=32, bias=True)\n",
      "    (3): ReLU()\n",
      "    (4): Linear(in_features=32, out_features=16, bias=True)\n",
      "  )\n",
      "  (mlp2): Sequential(\n",
      "    (0): Linear(in_features=74, out_features=32, bias=True)\n",
      "    (1): ReLU()\n",
      "    (2): Linear(in_features=32, out_features=32, bias=True)\n",
      "    (3): ReLU()\n",
      "    (4): Linear(in_features=32, out_features=2, bias=True)\n",
      "  )\n",
      ")\n"
     ]
    }
   ],
   "source": [
    "#read model\n",
    "model = LSTM_MLP(\n",
    "        input1_size, \n",
    "        input2_size, \n",
    "        input_size,\n",
    "        hidden1_size, \n",
    "        hidden2_size, \n",
    "        hidden_size,\n",
    "        output1_size, \n",
    "        output2_size, \n",
    "        output_size,\n",
    "        num_layers\n",
    "        ).to(device)\n",
    "model.load_state_dict(torch.load('../saved_models/LSTM_MLP_env1_first_quantile.pth'))\n",
    "print(model)"
   ]
  },
  {
   "cell_type": "code",
   "execution_count": 29,
   "metadata": {},
   "outputs": [],
   "source": [
    "class TestDataset(Dataset):\n",
    "    def __init__(self, input_data_1, input_data_2):\n",
    "        self.input_data_1 = input_data_1\n",
    "        self.input_data_2 = input_data_2\n",
    "\n",
    "    def __getitem__(self, index):\n",
    "        input_1 = torch.tensor(self.input_data_1[index], dtype=torch.float32)\n",
    "        input_2 = torch.tensor(self.input_data_2[index], dtype=torch.float32)\n",
    "        output = 0\n",
    "        return input_1, input_2, output\n",
    "\n",
    "    def __len__(self):\n",
    "        return len(self.input_data_1)"
   ]
  },
  {
   "cell_type": "code",
   "execution_count": 110,
   "metadata": {},
   "outputs": [
    {
     "name": "stdout",
     "output_type": "stream",
     "text": [
      "初期姿勢：88°, 終端姿勢：23°\n"
     ]
    },
    {
     "data": {
      "image/png": "[encoded data removed]",
      "text/plain": [
       "<Figure size 640x480 with 1 Axes>"
      ]
     },
     "metadata": {},
     "output_type": "display_data"
    }
   ],
   "source": [
    "#test_pathの表示\n",
    "import plot\n",
    "import random\n",
    "\n",
    "#入力のサンプリング\n",
    "x_start = (random.uniform(-2, 4), random.uniform(-3, 3))  # Starting node\n",
    "x_goal = (random.uniform(26, 32), random.uniform(-3, 3))  # Goal node\n",
    "\n",
    "#env1用\n",
    "theta_start = random.uniform(-np.pi/2, np.pi/2)\n",
    "theta_goal = random.uniform(-np.pi/2, np.pi/2)\n",
    "\n",
    "\"\"\"\n",
    "#env2用\n",
    "theta_start = random.uniform(np.pi/4, np.pi*3/4)\n",
    "theta_goal = random.uniform(np.pi/4, np.pi*3/4)\n",
    "\"\"\"\n",
    "\n",
    "input_data1 = [[x_start[0], x_start[1]]]\n",
    "for i in range(28):\n",
    "    input_data1.append([0, 0])\n",
    "input_data1 = [input_data1]\n",
    "input_data2 = [[x_start[0], x_goal[0], x_start[1], x_goal[1], theta_start, theta_goal]]\n",
    "\n",
    "test_data = TestDataset(input_data1, input_data2)\n",
    "test_loader = torch.utils.data.DataLoader(test_data, batch_size=1, shuffle=False)\n",
    "\n",
    "#予測モード\n",
    "for i in range(28):\n",
    "    model.eval()\n",
    "    with torch.no_grad():\n",
    "        input_data_1, input_data_2, _ = next(iter(test_loader))\n",
    "        input_data_1, input_data_2, output_data = input_data_1.to(device), input_data_2.to(device), output_data.to(device)\n",
    "        output = model(input_data_1, input_data_2)\n",
    "        \n",
    "        input_data1[0][i+1] = output[0].tolist()\n",
    "        test_data = TestDataset(input_data1, input_data2)\n",
    "        test_loader = torch.utils.data.DataLoader(test_data, batch_size=1, shuffle=False)\n",
    "    \n",
    "input_data1[0].append([x_goal[0], x_goal[1]])\n",
    "result = np.array(input_data1).squeeze()\n",
    "\n",
    "x, y = np.array([]), np.array([])\n",
    "for i in range(np.shape(result)[0]):\n",
    "    x = np.append(x, result[i, 0])\n",
    "    y = np.append(y, result[i, 1])\n",
    "\n",
    "print(\"初期姿勢：{}°, 終端姿勢：{}°\".format(int(np.degrees(theta_start)), int(np.degrees(theta_goal))))\n",
    "plot.vis_path_env1(x, y)"
   ]
  },
  {
   "cell_type": "code",
   "execution_count": 60,
   "metadata": {},
   "outputs": [
    {
     "name": "stdout",
     "output_type": "stream",
     "text": [
      "tensor([[ 1,  2,  3,  4,  5],\n",
      "        [ 6,  7,  8,  0,  0],\n",
      "        [ 9, 10, 11, 12,  0],\n",
      "        [13, 14,  0,  0,  0]])\n"
     ]
    },
    {
     "data": {
      "text/plain": [
       "tensor([[ True,  True,  True,  True,  True],\n",
       "        [ True,  True,  True, False, False],\n",
       "        [ True,  True,  True,  True, False],\n",
       "        [ True,  True, False, False, False]])"
      ]
     },
     "execution_count": 60,
     "metadata": {},
     "output_type": "execute_result"
    }
   ],
   "source": [
    "import torch\n",
    "\n",
    "# 入力シーケンスの長さ情報を持つテンソルを作成\n",
    "sequence_lengths = [5, 3, 4, 2]\n",
    "max_length = max(sequence_lengths)\n",
    "\n",
    "# パディングされた入力データを作成\n",
    "padded_data = torch.tensor([\n",
    "    [1, 2, 3, 4, 5],\n",
    "    [6, 7, 8, 0, 0],\n",
    "    [9, 10, 11, 12, 0],\n",
    "    [13, 14, 0, 0, 0]\n",
    "])\n",
    "\n",
    "# マスク行列を作成\n",
    "mask = torch.arange(max_length)[None, :] < torch.tensor(sequence_lengths)[:, None]\n",
    "\n",
    "# マスクを適用\n",
    "masked_data = padded_data.masked_fill(~mask, 0)\n",
    "\n",
    "# マスキング後のデータを表示\n",
    "print(masked_data)\n",
    "mask"
   ]
  },
  {
   "cell_type": "code",
   "execution_count": 67,
   "metadata": {},
   "outputs": [
    {
     "name": "stdout",
     "output_type": "stream",
     "text": [
      "tensor([[-0.8263, -2.4882, -1.5078,  0.1501, -0.1572],\n",
      "        [-0.8034,  0.5775,  1.1898, -0.3128, -1.4233],\n",
      "        [ 1.3559,  0.2188, -0.5595, -0.6823, -0.1455],\n",
      "        [ 0.4141,  1.4183, -0.2231, -0.0487, -0.0754],\n",
      "        [ 0.5687, -0.0037,  0.5884,  0.5862,  1.2589],\n",
      "        [-0.9575,  1.3869, -0.2221, -1.4118, -0.0440],\n",
      "        [-2.0236,  0.8857, -1.2723, -1.7515,  0.0409],\n",
      "        [-1.0070, -0.2854, -0.1534,  0.0098, -1.8868],\n",
      "        [-0.1829,  0.0071,  1.0832, -1.3796,  0.3947],\n",
      "        [ 1.0453,  1.3606, -0.1794, -2.4775, -1.3317]])\n",
      "tensor([[ True,  True, False, False, False,  True, False,  True,  True,  True],\n",
      "        [False, False,  True, False, False, False,  True, False,  True, False],\n",
      "        [False, False, False,  True,  True,  True,  True,  True,  True,  True]])\n",
      "tensor([[-0.8263, -2.4882, -1.5078,  0.1501, -0.1572],\n",
      "        [-0.8034,  0.5775,  1.1898, -0.3128, -1.4233],\n",
      "        [ 0.0000,  0.0000,  0.0000,  0.0000,  0.0000],\n",
      "        [ 0.0000,  0.0000,  0.0000,  0.0000,  0.0000],\n",
      "        [ 0.0000,  0.0000,  0.0000,  0.0000,  0.0000],\n",
      "        [-0.9575,  1.3869, -0.2221, -1.4118, -0.0440],\n",
      "        [ 0.0000,  0.0000,  0.0000,  0.0000,  0.0000],\n",
      "        [-1.0070, -0.2854, -0.1534,  0.0098, -1.8868],\n",
      "        [-0.1829,  0.0071,  1.0832, -1.3796,  0.3947],\n",
      "        [ 1.0453,  1.3606, -0.1794, -2.4775, -1.3317]])\n",
      "torch.Size([3, 16])\n"
     ]
    }
   ],
   "source": [
    "import torch\n",
    "import torch.nn as nn\n",
    "\n",
    "# 入力データの準備\n",
    "sequence_length = 10\n",
    "input_size = 5\n",
    "batch_size = 3\n",
    "\n",
    "# ダミーの入力データを作成\n",
    "input_data = torch.randn(batch_size, sequence_length, input_size)\n",
    "print(input_data[0])\n",
    "# マスク行列を作成\n",
    "mask = torch.BoolTensor(batch_size, sequence_length).random_(2)\n",
    "print(mask)\n",
    "# RNNモデルの定義\n",
    "hidden_size = 16\n",
    "num_layers = 2\n",
    "rnn = nn.RNN(input_size=input_size, hidden_size=hidden_size, num_layers=num_layers, batch_first=True)\n",
    "\n",
    "# マスキングを適用\n",
    "masked_data = input_data.masked_fill(~mask.unsqueeze(-1), 0)\n",
    "print(masked_data[0])\n",
    "# RNNに入力データを与える\n",
    "output, _ = rnn(masked_data)\n",
    "print(output.shape)\n",
    "# 最後の時刻の出力のみを抽出\n",
    "last_output = output[:, -1, :]\n",
    "\n",
    "# 出力の形状を確認\n",
    "print(last_output.shape)"
   ]
  },
  {
   "cell_type": "code",
   "execution_count": null,
   "metadata": {},
   "outputs": [],
   "source": []
  }
 ],
 "metadata": {
  "kernelspec": {
   "display_name": "Python 3",
   "language": "python",
   "name": "python3"
  },
  "language_info": {
   "codemirror_mode": {
    "name": "ipython",
    "version": 3
   },
   "file_extension": ".py",
   "mimetype": "text/x-python",
   "name": "python",
   "nbconvert_exporter": "python",
   "pygments_lexer": "ipython3",
   "version": "3.10.6"
  },
  "orig_nbformat": 4
 },
 "nbformat": 4,
 "nbformat_minor": 2
}
