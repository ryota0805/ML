{
 "cells": [
  {
   "cell_type": "code",
   "execution_count": 1,
   "metadata": {},
   "outputs": [
    {
     "name": "stdout",
     "output_type": "stream",
     "text": [
      "NVIDIA RTX A2000 8GB Laptop GPU\n",
      "2.0.0+cu118 True\n",
      "cuda:0\n"
     ]
    }
   ],
   "source": [
    "import torch\n",
    "import torch.nn as nn\n",
    "from torch.utils.data import Dataset, DataLoader, random_split\n",
    "\n",
    "print(torch.cuda.get_device_name())\n",
    "print(torch.__version__, torch.cuda.is_available())\n",
    "device = torch.device('cuda:0' if torch.cuda.is_available() else 'cpu')\n",
    "print(device)"
   ]
  },
  {
   "cell_type": "code",
   "execution_count": 2,
   "metadata": {},
   "outputs": [],
   "source": [
    "import numpy as np\n",
    "import matplotlib.pyplot as plt"
   ]
  },
  {
   "cell_type": "code",
   "execution_count": 3,
   "metadata": {},
   "outputs": [],
   "source": [
    "class MLP(nn.Module):\n",
    "    def __init__(self, input_size, hidden_size, output_size):\n",
    "        super(MLP, self).__init__()\n",
    "        self.fc1 = nn.Linear(input_size, hidden_size)\n",
    "        self.relu = nn.ReLU()\n",
    "        self.fc2 = nn.Linear(hidden_size, hidden_size)\n",
    "        self.relu = nn.ReLU()\n",
    "        self.fc3 = nn.Linear(hidden_size, output_size)\n",
    "        \n",
    "    def forward(self, x):\n",
    "        out = self.fc1(x)\n",
    "        out = self.relu(out)\n",
    "        out = self.fc2(out)\n",
    "        out = self.relu(out)\n",
    "        out = self.fc2(out)\n",
    "        out = self.relu(out)\n",
    "        out = self.fc2(out)\n",
    "        out = self.relu(out)\n",
    "        out = self.fc3(out)\n",
    "        return out"
   ]
  },
  {
   "cell_type": "code",
   "execution_count": 4,
   "metadata": {},
   "outputs": [],
   "source": [
    "class LSTM(nn.Module):\n",
    "    def __init__(self, input_size, hidden_size, output_size, output_seq_length, num_layers):\n",
    "        super(LSTM, self).__init__()\n",
    "        self.hidden_size = hidden_size\n",
    "        self.output_seq_length = output_seq_length\n",
    "        self.num_layers = num_layers\n",
    "        self.lstm = nn.LSTM(input_size, hidden_size, num_layers=self.num_layers, batch_first=True)\n",
    "        self.fc = nn.Linear(hidden_size, output_size)\n",
    "\n",
    "    def forward(self, x):\n",
    "        #入力のsequence長さを出力のsequence長さに合わせるため拡張する\n",
    "        new_size = (x.size(0), self.output_seq_length, input_size)\n",
    "        x = x.expand(*new_size)\n",
    "        \n",
    "        h0 = torch.zeros(self.num_layers, x.size(0), self.hidden_size).to(x.device)\n",
    "        c0 = torch.zeros(self.num_layers, x.size(0), self.hidden_size).to(x.device)\n",
    "        \n",
    "        output, _ = self.lstm(x, (h0, c0))\n",
    "        output = self.fc(output)\n",
    "\n",
    "        return output"
   ]
  },
  {
   "cell_type": "code",
   "execution_count": 15,
   "metadata": {},
   "outputs": [
    {
     "data": {
      "text/plain": [
       "<All keys matched successfully>"
      ]
     },
     "execution_count": 15,
     "metadata": {},
     "output_type": "execute_result"
    }
   ],
   "source": [
    "#MLP学習済みモデルをセットする\n",
    "\n",
    "# ハイパーパラメータの設定\n",
    "input_size = 6\n",
    "hidden_size = 2000\n",
    "output_size = 56\n",
    "\n",
    "#MLP\n",
    "MLP_env1 = MLP(input_size, hidden_size, output_size).to(device)\n",
    "MLP_env1.load_state_dict(torch.load('../saved_models/MLP_env1.pth'))\n",
    "\n",
    "MLP_env1_extract = MLP(input_size, hidden_size, output_size).to(device)\n",
    "MLP_env1_extract.load_state_dict(torch.load('../saved_models/MLP_env1_first_quantile.pth'))"
   ]
  },
  {
   "cell_type": "code",
   "execution_count": 16,
   "metadata": {},
   "outputs": [
    {
     "data": {
      "text/plain": [
       "<All keys matched successfully>"
      ]
     },
     "execution_count": 16,
     "metadata": {},
     "output_type": "execute_result"
    }
   ],
   "source": [
    "#LSTM学習済みモデルをセットする\n",
    "\n",
    "# ハイパーパラメータの設定\n",
    "input_size = 6\n",
    "hidden_size = 128\n",
    "output_size = 2\n",
    "output_seq_length = 28\n",
    "num_layers = 1\n",
    "\n",
    "#LSTM\n",
    "LSTM_env1 = LSTM(input_size, hidden_size, output_size, output_seq_length, num_layers).to(device)\n",
    "LSTM_env1.load_state_dict(torch.load('../saved_models/LSTM_env1.pth'))\n",
    "\n",
    "LSTM_env1_extract = LSTM(input_size, hidden_size, output_size, output_seq_length, num_layers).to(device)\n",
    "LSTM_env1_extract.load_state_dict(torch.load('../saved_models/LSTM_env1_first_quantile.pth'))"
   ]
  },
  {
   "cell_type": "code",
   "execution_count": 17,
   "metadata": {},
   "outputs": [],
   "source": [
    "class TestDataset(Dataset):\n",
    "    def __init__(self, test_data):\n",
    "        self.test_data = test_data\n",
    "\n",
    "    def __len__(self):\n",
    "        return len(self.test_data)\n",
    "\n",
    "    def __getitem__(self, index):\n",
    "        input = torch.tensor(self.test_data[index], dtype=torch.float32)\n",
    "        output = 0\n",
    "        return input, output"
   ]
  },
  {
   "cell_type": "code",
   "execution_count": 18,
   "metadata": {},
   "outputs": [],
   "source": [
    "#検証\n",
    "#モデルで予測したpathがcollision freeである割合を計算する\n",
    "import random\n",
    "import utils\n",
    "import plot\n",
    "import matplotlib.pyplot as plt\n",
    "\n",
    "#検証回数\n",
    "max_iter = 1000\n",
    "\n",
    "counter = {MLP_env1:0, MLP_env1_extract:0, LSTM_env1:0, LSTM_env1_extract:0}\n",
    "\n",
    "for iteration in range(max_iter):\n",
    "    \n",
    "    #初期状態・終端状態のサンプリング\n",
    "    x_start = (random.uniform(-2, 4), random.uniform(-3, 3))  # Starting node\n",
    "    x_goal = (random.uniform(26, 32), random.uniform(-3, 3))  # Goal node\n",
    "    theta_start = random.uniform(-np.pi/2, np.pi/2)\n",
    "    theta_goal = random.uniform(-np.pi/2, np.pi/2)\n",
    "\n",
    "    #test dataのset\n",
    "    test_data = np.array([[x_start[0], x_goal[0], x_start[1], x_goal[1], theta_start, theta_goal]])\n",
    "    test_data = TestDataset(test_data)\n",
    "    test_loader = torch.utils.data.DataLoader(test_data, batch_size=1, shuffle=False)\n",
    "    \n",
    "    ####\n",
    "    #MLP_env1\n",
    "    ####\n",
    "    MLP_env1.eval()\n",
    "    with torch.no_grad():\n",
    "        Iter = test_loader.__iter__()\n",
    "        input_data, _ = next(Iter)\n",
    "        input_data = input_data.to(device)\n",
    "        output = MLP_env1(input_data)\n",
    "        output = output.view(2, -1)\n",
    "        \n",
    "    output = output.cpu().numpy()\n",
    "    test_x_path = np.append(output[0], x_goal[0])\n",
    "    test_x_path = np.append(x_start[0], test_x_path)\n",
    "    test_y_path = np.append(output[1], x_goal[1])\n",
    "    test_y_path = np.append(x_start[1], test_y_path)\n",
    "    \n",
    "    if utils.is_collision_free(test_x_path, test_y_path) == True:\n",
    "        counter[MLP_env1] = counter[MLP_env1] + 1\n",
    "    else:\n",
    "        pass\n",
    "    \n",
    "    ####\n",
    "    #MLP_env1_extract\n",
    "    ####\n",
    "    MLP_env1_extract.eval()\n",
    "    with torch.no_grad():\n",
    "        Iter = test_loader.__iter__()\n",
    "        input_data, _ = next(Iter)\n",
    "        input_data = input_data.to(device)\n",
    "        output = MLP_env1_extract(input_data)\n",
    "        output = output.view(2, -1)\n",
    "        \n",
    "    output = output.cpu().numpy()\n",
    "    test_x_path = np.append(output[0], x_goal[0])\n",
    "    test_x_path = np.append(x_start[0], test_x_path)\n",
    "    test_y_path = np.append(output[1], x_goal[1])\n",
    "    test_y_path = np.append(x_start[1], test_y_path)\n",
    "    \n",
    "    if utils.is_collision_free(test_x_path, test_y_path) == True:\n",
    "        counter[MLP_env1_extract] = counter[MLP_env1_extract] + 1\n",
    "    else:\n",
    "        pass \n",
    "    \n",
    "    ####\n",
    "    #LSTM_env1\n",
    "    ####\n",
    "    LSTM_env1.eval()\n",
    "    with torch.no_grad():\n",
    "        Iter = test_loader.__iter__()\n",
    "        input_data, _ = next(Iter)\n",
    "        input_data = input_data.to(device)\n",
    "        output = LSTM_env1(input_data)\n",
    "        \n",
    "    output = output.cpu().numpy()    \n",
    "    test_x_path = np.array([])\n",
    "    test_y_path = np.array([])\n",
    "    for i in range(output.shape[1]):\n",
    "        test_x_path = np.append(test_x_path, output[0, i, 0])\n",
    "        test_y_path = np.append(test_y_path, output[0, i, 1])\n",
    "        \n",
    "    test_x_path = np.append(test_x_path, x_goal[0])\n",
    "    test_x_path = np.append(x_start[0], test_x_path)\n",
    "    test_y_path = np.append(test_y_path, x_goal[1])\n",
    "    test_y_path = np.append(x_start[1], test_y_path)\n",
    "    \n",
    "    if utils.is_collision_free(test_x_path, test_y_path) == True:\n",
    "        counter[LSTM_env1] = counter[LSTM_env1] + 1\n",
    "    else:\n",
    "        pass \n",
    "    \n",
    "    ####\n",
    "    #LSTM_env1_extract\n",
    "    ####\n",
    "    LSTM_env1_extract.eval()\n",
    "    with torch.no_grad():\n",
    "        Iter = test_loader.__iter__()\n",
    "        input_data, _ = next(Iter)\n",
    "        input_data = input_data.to(device)\n",
    "        output = LSTM_env1_extract(input_data)\n",
    "        \n",
    "    output = output.cpu().numpy()    \n",
    "    test_x_path = np.array([])\n",
    "    test_y_path = np.array([])\n",
    "    for i in range(output.shape[1]):\n",
    "        test_x_path = np.append(test_x_path, output[0, i, 0])\n",
    "        test_y_path = np.append(test_y_path, output[0, i, 1])\n",
    "        \n",
    "    test_x_path = np.append(test_x_path, x_goal[0])\n",
    "    test_x_path = np.append(x_start[0], test_x_path)\n",
    "    test_y_path = np.append(test_y_path, x_goal[1])\n",
    "    test_y_path = np.append(x_start[1], test_y_path)\n",
    "    \n",
    "    if utils.is_collision_free(test_x_path, test_y_path) == True:\n",
    "        counter[LSTM_env1_extract] = counter[LSTM_env1_extract] + 1\n",
    "    else:\n",
    "        pass \n"
   ]
  },
  {
   "cell_type": "code",
   "execution_count": 19,
   "metadata": {},
   "outputs": [
    {
     "name": "stdout",
     "output_type": "stream",
     "text": [
      "16/1000\n",
      "596/1000\n",
      "7/1000\n",
      "709/1000\n"
     ]
    }
   ],
   "source": [
    "for v in counter.values():\n",
    "    print('{}/1000'.format(v))"
   ]
  },
  {
   "cell_type": "code",
   "execution_count": 20,
   "metadata": {},
   "outputs": [
    {
     "data": {
      "text/plain": [
       "0.709"
      ]
     },
     "execution_count": 20,
     "metadata": {},
     "output_type": "execute_result"
    }
   ],
   "source": [
    "18/1000\n",
    "347/1000\n",
    "9/1000\n",
    "386/1000\n",
    "\n",
    "9/1000\n",
    "362/1000\n",
    "10/1000\n",
    "405/1000\n",
    "\n",
    "16/1000\n",
    "596/1000\n",
    "7/1000\n",
    "709/1000"
   ]
  },
  {
   "cell_type": "code",
   "execution_count": null,
   "metadata": {},
   "outputs": [],
   "source": []
  }
 ],
 "metadata": {
  "kernelspec": {
   "display_name": "Python 3",
   "language": "python",
   "name": "python3"
  },
  "language_info": {
   "codemirror_mode": {
    "name": "ipython",
    "version": 3
   },
   "file_extension": ".py",
   "mimetype": "text/x-python",
   "name": "python",
   "nbconvert_exporter": "python",
   "pygments_lexer": "ipython3",
   "version": "3.10.6"
  },
  "orig_nbformat": 4
 },
 "nbformat": 4,
 "nbformat_minor": 2
}
