{
 "cells": [
  {
   "cell_type": "code",
   "execution_count": 33,
   "metadata": {},
   "outputs": [
    {
     "name": "stdout",
     "output_type": "stream",
     "text": [
      "NVIDIA RTX A2000 8GB Laptop GPU\n",
      "2.0.0+cu118 True\n",
      "cuda:0\n"
     ]
    }
   ],
   "source": [
    "import torch\n",
    "import torch.nn as nn\n",
    "from torch.utils.data import Dataset, DataLoader, random_split\n",
    "\n",
    "print(torch.cuda.get_device_name())\n",
    "print(torch.__version__, torch.cuda.is_available())\n",
    "device = torch.device('cuda:0' if torch.cuda.is_available() else 'cpu')\n",
    "print(device)"
   ]
  },
  {
   "cell_type": "code",
   "execution_count": 17,
   "metadata": {},
   "outputs": [],
   "source": [
    "import numpy as np\n",
    "import matplotlib.pyplot as plt"
   ]
  },
  {
   "cell_type": "code",
   "execution_count": 3,
   "metadata": {},
   "outputs": [
    {
     "name": "stdout",
     "output_type": "stream",
     "text": [
      "[[-1.95089677 -1.68718655 -0.55750106 ... 24.75735236 25.6833121\n",
      "  26.85336784]\n",
      " [-1.39265343 -1.39265343 -1.32873657 ... 26.10704996 27.2326434\n",
      "  28.42921012]\n",
      " [-1.76492294 -0.78487723  0.35221506 ... 27.23747789 28.22199815\n",
      "  29.18854837]\n",
      " ...\n",
      " [ 3.85745585  3.85745585  4.43214483 ... 25.49375936 26.25427785\n",
      "  27.59609971]\n",
      " [ 0.52651487  0.52651487  0.52651487 ... 26.97762904 28.00751776\n",
      "  29.04215692]\n",
      " [ 1.85450954  1.85450954  3.10614242 ... 28.34286717 28.64772609\n",
      "  30.44461778]]\n"
     ]
    }
   ],
   "source": [
    "x_data = np.loadtxt('../data/practice/x.csv', delimiter=',',encoding=\"utf-8-sig\")\n",
    "y_data = np.loadtxt('../data/practice/y.csv', delimiter=',',encoding=\"utf-8-sig\")\n",
    "theta_data = np.loadtxt('../data/practice/theta.csv', delimiter=',',encoding=\"utf-8-sig\")"
   ]
  },
  {
   "cell_type": "code",
   "execution_count": 4,
   "metadata": {},
   "outputs": [],
   "source": [
    "x_data_input = np.stack([x_data[:, 0],x_data[:, -1]], axis=1)\n",
    "y_data_input = np.stack([y_data[:, 0],x_data[:, -1]], axis=1)\n",
    "theta_data_input = np.stack([theta_data[:, 0],x_data[:, -1]], axis=1)\n",
    "\n",
    "x_data_output = x_data[:, 1:-1]\n",
    "y_data_output = y_data[:, 1:-1]"
   ]
  },
  {
   "cell_type": "code",
   "execution_count": 5,
   "metadata": {},
   "outputs": [],
   "source": [
    "input_data = np.concatenate([x_data_input, y_data_input, theta_data_input], axis=1)\n",
    "output_data = np.concatenate([x_data_output, y_data_output], axis=1)"
   ]
  },
  {
   "cell_type": "code",
   "execution_count": 6,
   "metadata": {},
   "outputs": [],
   "source": [
    "class MyDataset(Dataset):\n",
    "    def __init__(self, input_data, output_data):\n",
    "        super(MyDataset, self).__init__()\n",
    "        self.input_data = input_data\n",
    "        self.output_data = output_data\n",
    "\n",
    "    def __getitem__(self, index):\n",
    "        input = torch.tensor(self.input_data[index], dtype=torch.float32)\n",
    "        output = torch.tensor(self.output_data[index], dtype=torch.float32)\n",
    "        return input, output\n",
    "\n",
    "    def __len__(self):\n",
    "        return len(self.input_data)"
   ]
  },
  {
   "cell_type": "code",
   "execution_count": 7,
   "metadata": {},
   "outputs": [],
   "source": [
    "train_valid_data = MyDataset(input_data, output_data)\n",
    "\n",
    "val_size = 2000\n",
    "train_data, val_data = torch.utils.data.random_split(train_valid_data, [len(train_valid_data)-val_size, val_size])"
   ]
  },
  {
   "cell_type": "code",
   "execution_count": 25,
   "metadata": {},
   "outputs": [],
   "source": [
    "batch_size = 10\n",
    "\n",
    "dataloader_train = torch.utils.data.DataLoader(\n",
    "    train_data,\n",
    "    batch_size=batch_size,\n",
    "    shuffle=True\n",
    ")\n",
    "\n",
    "dataloader_valid = torch.utils.data.DataLoader(\n",
    "    val_data,\n",
    "    batch_size=batch_size,\n",
    "    shuffle=True\n",
    ")"
   ]
  },
  {
   "cell_type": "code",
   "execution_count": 46,
   "metadata": {},
   "outputs": [],
   "source": [
    "class MLP(nn.Module):\n",
    "    def __init__(self, input_size, hidden_size, output_size):\n",
    "        super(MLP, self).__init__()\n",
    "        self.fc1 = nn.Linear(input_size, hidden_size)\n",
    "        self.relu = nn.ReLU()\n",
    "        self.fc2 = nn.Linear(hidden_size, hidden_size)\n",
    "        self.relu = nn.ReLU()\n",
    "        self.fc3 = nn.Linear(hidden_size, output_size)\n",
    "        \n",
    "    def forward(self, x):\n",
    "        out = self.fc1(x)\n",
    "        out = self.relu(out)\n",
    "        out = self.fc2(out)\n",
    "        out = self.relu(out)\n",
    "        out = self.fc2(out)\n",
    "        out = self.relu(out)\n",
    "        out = self.fc2(out)\n",
    "        out = self.relu(out)\n",
    "        out = self.fc3(out)\n",
    "        return out"
   ]
  },
  {
   "cell_type": "code",
   "execution_count": 47,
   "metadata": {},
   "outputs": [
    {
     "name": "stdout",
     "output_type": "stream",
     "text": [
      "Epoch [1/100], Loss: 0.7456, val_loss: 0.4275\n",
      "Epoch [2/100], Loss: 0.4157, val_loss: 0.4682\n",
      "Epoch [3/100], Loss: 0.4059, val_loss: 0.3972\n",
      "Epoch [4/100], Loss: 0.3980, val_loss: 0.4085\n",
      "Epoch [5/100], Loss: 0.3932, val_loss: 0.3945\n",
      "Epoch [6/100], Loss: 0.3900, val_loss: 0.3825\n",
      "Epoch [7/100], Loss: 0.3830, val_loss: 0.3787\n",
      "Epoch [8/100], Loss: 0.3831, val_loss: 0.5111\n",
      "Epoch [9/100], Loss: 0.3813, val_loss: 0.3896\n",
      "Epoch [10/100], Loss: 0.3798, val_loss: 0.3741\n",
      "Epoch [11/100], Loss: 0.3785, val_loss: 0.4164\n",
      "Epoch [12/100], Loss: 0.3775, val_loss: 0.3842\n",
      "Epoch [13/100], Loss: 0.3756, val_loss: 0.3829\n",
      "Epoch [14/100], Loss: 0.3779, val_loss: 0.3733\n",
      "Epoch [15/100], Loss: 0.3746, val_loss: 0.3691\n",
      "Epoch [16/100], Loss: 0.3745, val_loss: 0.3767\n",
      "Epoch [17/100], Loss: 0.3749, val_loss: 0.4025\n",
      "Epoch [18/100], Loss: 0.3732, val_loss: 0.3743\n",
      "Epoch [19/100], Loss: 0.3722, val_loss: 0.3792\n",
      "Epoch [20/100], Loss: 0.3734, val_loss: 0.3787\n",
      "Epoch [21/100], Loss: 0.3733, val_loss: 0.3752\n",
      "Epoch [22/100], Loss: 0.3729, val_loss: 0.3690\n",
      "Epoch [23/100], Loss: 0.3702, val_loss: 0.3763\n",
      "Epoch [24/100], Loss: 0.3717, val_loss: 0.3782\n",
      "Epoch [25/100], Loss: 0.3720, val_loss: 0.3745\n",
      "Epoch [26/100], Loss: 0.3704, val_loss: 0.3747\n",
      "Epoch [27/100], Loss: 0.3711, val_loss: 0.3706\n",
      "Epoch [28/100], Loss: 0.3703, val_loss: 0.3812\n",
      "Epoch [29/100], Loss: 0.3695, val_loss: 0.3720\n",
      "Epoch [30/100], Loss: 0.3715, val_loss: 0.3867\n",
      "Epoch [31/100], Loss: 0.3697, val_loss: 0.3713\n",
      "Epoch [32/100], Loss: 0.3696, val_loss: 0.3858\n",
      "Epoch [33/100], Loss: 0.3694, val_loss: 0.3755\n",
      "Epoch [34/100], Loss: 0.3687, val_loss: 0.3774\n",
      "Epoch [35/100], Loss: 0.3686, val_loss: 0.3698\n",
      "Epoch [36/100], Loss: 0.3682, val_loss: 0.3805\n",
      "Epoch [37/100], Loss: 0.3699, val_loss: 0.3777\n",
      "Epoch [38/100], Loss: 0.3692, val_loss: 0.3744\n",
      "Epoch [39/100], Loss: 0.3697, val_loss: 0.3774\n",
      "Epoch [40/100], Loss: 0.3680, val_loss: 0.3818\n",
      "Epoch [41/100], Loss: 0.3694, val_loss: 0.3753\n",
      "Epoch [42/100], Loss: 0.3682, val_loss: 0.3739\n",
      "Epoch [43/100], Loss: 0.3673, val_loss: 0.3775\n",
      "Epoch [44/100], Loss: 0.3674, val_loss: 0.3721\n",
      "Epoch [45/100], Loss: 0.3675, val_loss: 0.3717\n",
      "Epoch [46/100], Loss: 0.3680, val_loss: 0.3688\n",
      "Epoch [47/100], Loss: 0.3674, val_loss: 0.3682\n",
      "Epoch [48/100], Loss: 0.3674, val_loss: 0.3753\n",
      "Epoch [49/100], Loss: 0.3674, val_loss: 0.3717\n",
      "Epoch [50/100], Loss: 0.3668, val_loss: 0.3701\n",
      "Epoch [51/100], Loss: 0.3678, val_loss: 0.3701\n",
      "Epoch [52/100], Loss: 0.3675, val_loss: 0.3712\n",
      "Epoch [53/100], Loss: 0.3680, val_loss: 0.3729\n",
      "Epoch [54/100], Loss: 0.3680, val_loss: 0.3689\n",
      "Epoch [55/100], Loss: 0.3670, val_loss: 0.3714\n",
      "Epoch [56/100], Loss: 0.3659, val_loss: 0.3708\n",
      "Epoch [57/100], Loss: 0.3675, val_loss: 0.3756\n",
      "Epoch [58/100], Loss: 0.3678, val_loss: 0.3774\n",
      "Epoch [59/100], Loss: 0.3659, val_loss: 0.3714\n",
      "Epoch [60/100], Loss: 0.3668, val_loss: 0.3748\n",
      "Epoch [61/100], Loss: 0.3668, val_loss: 0.3683\n",
      "Epoch [62/100], Loss: 0.3665, val_loss: 0.3699\n",
      "Epoch [63/100], Loss: 0.3665, val_loss: 0.3727\n",
      "Epoch [64/100], Loss: 0.3667, val_loss: 0.3696\n",
      "Epoch [65/100], Loss: 0.3664, val_loss: 0.3814\n",
      "Epoch [66/100], Loss: 0.3655, val_loss: 0.3702\n",
      "Epoch [67/100], Loss: 0.3644, val_loss: 0.3729\n",
      "Epoch [68/100], Loss: 0.3658, val_loss: 0.3684\n",
      "Epoch [69/100], Loss: 0.3662, val_loss: 0.3753\n",
      "Epoch [70/100], Loss: 0.3660, val_loss: 0.3787\n",
      "Epoch [71/100], Loss: 0.3664, val_loss: 0.3812\n",
      "Epoch [72/100], Loss: 0.3662, val_loss: 0.3684\n",
      "Epoch [73/100], Loss: 0.3666, val_loss: 0.3781\n",
      "Epoch [74/100], Loss: 0.3660, val_loss: 0.3708\n",
      "Epoch [75/100], Loss: 0.3656, val_loss: 0.3685\n",
      "Epoch [76/100], Loss: 0.3645, val_loss: 0.3747\n",
      "Epoch [77/100], Loss: 0.3655, val_loss: 0.3722\n",
      "Epoch [78/100], Loss: 0.3656, val_loss: 0.3743\n",
      "Epoch [79/100], Loss: 0.3661, val_loss: 0.3691\n",
      "Epoch [80/100], Loss: 0.3657, val_loss: 0.3782\n",
      "Epoch [81/100], Loss: 0.3665, val_loss: 0.3696\n",
      "Epoch [82/100], Loss: 0.3650, val_loss: 0.3686\n",
      "Epoch [83/100], Loss: 0.3646, val_loss: 0.3706\n",
      "Epoch [84/100], Loss: 0.3652, val_loss: 0.3752\n",
      "Epoch [85/100], Loss: 0.3647, val_loss: 0.3877\n",
      "Epoch [86/100], Loss: 0.3653, val_loss: 0.3758\n",
      "Epoch [87/100], Loss: 0.3652, val_loss: 0.3685\n",
      "Epoch [88/100], Loss: 0.3644, val_loss: 0.3750\n",
      "Epoch [89/100], Loss: 0.3658, val_loss: 0.3667\n",
      "Epoch [90/100], Loss: 0.3659, val_loss: 0.3679\n",
      "Epoch [91/100], Loss: 0.3652, val_loss: 0.3672\n",
      "Epoch [92/100], Loss: 0.3651, val_loss: 0.3688\n",
      "Epoch [93/100], Loss: 0.3650, val_loss: 0.3674\n",
      "Epoch [94/100], Loss: 0.3641, val_loss: 0.3739\n",
      "Epoch [95/100], Loss: 0.3645, val_loss: 0.3720\n",
      "Epoch [96/100], Loss: 0.3654, val_loss: 0.3832\n",
      "Epoch [97/100], Loss: 0.3649, val_loss: 0.3789\n",
      "Epoch [98/100], Loss: 0.3650, val_loss: 0.3681\n",
      "Epoch [99/100], Loss: 0.3636, val_loss: 0.3701\n",
      "Epoch [100/100], Loss: 0.3651, val_loss: 0.3734\n"
     ]
    }
   ],
   "source": [
    "# ハイパーパラメータの設定\n",
    "input_size = input_data.shape[1]\n",
    "hidden_size = 2000\n",
    "output_size = output_data.shape[1]\n",
    "learning_rate = 0.001\n",
    "num_epochs = 100\n",
    "\n",
    "# モデルの定義\n",
    "model = MLP(input_size, hidden_size, output_size).to(device)\n",
    "\n",
    "# 損失関数の定義\n",
    "criterion = nn.MSELoss()\n",
    "\n",
    "# オプティマイザの定義\n",
    "optimizer = torch.optim.Adam(model.parameters(), lr=learning_rate)\n",
    "\n",
    "#トレーニングの開始\n",
    "train_loss_list, val_loss_list = [], []\n",
    "\n",
    "for epoch in range(num_epochs):\n",
    "    train_loss, val_loss = 0, 0\n",
    "    \n",
    "    #train_mode\n",
    "    model.train()\n",
    "    for i, (input_data, output_data) in enumerate(dataloader_train):\n",
    "        # データをGPUに転送\n",
    "        input_data, output_data = input_data.to(device), output_data.to(device)\n",
    "        \n",
    "        # モデルの出力を計算\n",
    "        output = model(input_data.view(-1, input_size))\n",
    "        \n",
    "        # 損失関数の適用\n",
    "        loss = criterion(output, output_data)\n",
    "        \n",
    "        #train_lossに結果を蓄積\n",
    "        train_loss += loss.item()\n",
    "        \n",
    "        # 勾配を初期化して逆伝播\n",
    "        optimizer.zero_grad()\n",
    "        loss.backward()\n",
    "        optimizer.step()\n",
    "        \n",
    "        # lossの平均を計算\n",
    "        avg_train_loss = train_loss / len(dataloader_train.dataset)  \n",
    "        \n",
    "    #valid_mode\n",
    "    model.eval()\n",
    "    with torch.no_grad():\n",
    "        for input_data, output_data in dataloader_valid:\n",
    "            # データをGPUに転送\n",
    "            input_data, output_data = input_data.to(device), output_data.to(device)\n",
    "            \n",
    "            # モデルの出力を計算\n",
    "            output = model(input_data.view(-1, input_size))\n",
    "            \n",
    "            # 損失関数の適用\n",
    "            loss = criterion(output, output_data)\n",
    "        \n",
    "            #val_lossに結果を蓄積\n",
    "            val_loss += loss.item()\n",
    "    \n",
    "    # lossの平均を計算      \n",
    "    avg_val_loss = val_loss / len(dataloader_valid.dataset)\n",
    "    \n",
    "    # print log\n",
    "    print ('Epoch [{}/{}], Loss: {loss:.4f}, val_loss: {val_loss:.4f}'.format(epoch+1, num_epochs, i+1, loss=avg_train_loss, val_loss=avg_val_loss))\n",
    "    \n",
    "    # append list for polt graph after training\n",
    "    train_loss_list.append(avg_train_loss)\n",
    "    val_loss_list.append(avg_val_loss)\n",
    "\n"
   ]
  },
  {
   "cell_type": "code",
   "execution_count": 48,
   "metadata": {},
   "outputs": [
    {
     "data": {
      "image/png": "[encoded data removed]",
      "text/plain": [
       "<Figure size 640x480 with 1 Axes>"
      ]
     },
     "metadata": {},
     "output_type": "display_data"
    }
   ],
   "source": [
    "plt.figure()\n",
    "plt.plot(range(num_epochs), train_loss_list, color='blue', linestyle='-', label='train_loss')\n",
    "plt.plot(range(num_epochs), val_loss_list, color='green', linestyle='--', label='val_loss')\n",
    "plt.legend()\n",
    "plt.xlabel('epoch')\n",
    "plt.ylabel('loss')\n",
    "plt.title('Training and validation loss')\n",
    "plt.grid()"
   ]
  },
  {
   "cell_type": "code",
   "execution_count": 60,
   "metadata": {},
   "outputs": [],
   "source": [
    "class TestDataset(Dataset):\n",
    "    def __init__(self, test_data):\n",
    "        self.test_data = test_data\n",
    "\n",
    "    def __len__(self):\n",
    "        return len(self.test_data)\n",
    "\n",
    "    def __getitem__(self, index):\n",
    "        input = torch.tensor(self.test_data[index], dtype=torch.float32)\n",
    "        output = 0\n",
    "        return input, output"
   ]
  },
  {
   "cell_type": "code",
   "execution_count": 80,
   "metadata": {},
   "outputs": [
    {
     "name": "stdout",
     "output_type": "stream",
     "text": [
      "[[ 1.96132334 28.90391172 -0.64353832  1.79213793 -0.59946176  0.30072032]]\n",
      "tensor([[ 1.9613, 28.9039, -0.6435,  1.7921, -0.5995,  0.3007]],\n",
      "       device='cuda:0')\n",
      "tensor([[ 1.7009,  2.3601,  2.9785,  3.3639,  3.6657,  3.8624,  3.9958,  4.2861,\n",
      "          4.6786,  5.0622,  5.3762,  5.6729,  5.9800,  6.2309,  6.3770,  6.5081,\n",
      "          6.5126,  6.4069,  6.3740,  6.6612,  7.3206,  8.2023,  8.8470,  9.3003,\n",
      "          9.4952,  9.5380,  9.6326,  9.6654, -1.9007, -2.5782, -2.7619, -2.4843,\n",
      "         -2.1501, -1.8377, -1.5452, -1.2712, -1.1041, -0.9846, -0.8026, -0.6500,\n",
      "         -0.4696, -0.4046, -0.3488, -0.3309, -0.2950, -0.2973, -0.3109, -0.5189,\n",
      "         -0.6234, -0.6734, -0.7074, -0.5866, -0.4932, -0.4214, -0.3003, -0.0387]],\n",
      "       device='cuda:0')\n",
      "tensor([[ 1.7009,  2.3601,  2.9785,  3.3639,  3.6657,  3.8624,  3.9958,  4.2861,\n",
      "          4.6786,  5.0622,  5.3762,  5.6729,  5.9800,  6.2309,  6.3770,  6.5081,\n",
      "          6.5126,  6.4069,  6.3740,  6.6612,  7.3206,  8.2023,  8.8470,  9.3003,\n",
      "          9.4952,  9.5380,  9.6326,  9.6654],\n",
      "        [-1.9007, -2.5782, -2.7619, -2.4843, -2.1501, -1.8377, -1.5452, -1.2712,\n",
      "         -1.1041, -0.9846, -0.8026, -0.6500, -0.4696, -0.4046, -0.3488, -0.3309,\n",
      "         -0.2950, -0.2973, -0.3109, -0.5189, -0.6234, -0.6734, -0.7074, -0.5866,\n",
      "         -0.4932, -0.4214, -0.3003, -0.0387]], device='cuda:0')\n"
     ]
    },
    {
     "ename": "TypeError",
     "evalue": "vis_path() takes 1 positional argument but 2 were given",
     "output_type": "error",
     "traceback": [
      "\u001b[0;31m---------------------------------------------------------------------------\u001b[0m",
      "\u001b[0;31mTypeError\u001b[0m                                 Traceback (most recent call last)",
      "Cell \u001b[0;32mIn[80], line 34\u001b[0m\n\u001b[1;32m     31\u001b[0m test_y_path \u001b[39m=\u001b[39m np\u001b[39m.\u001b[39mappend(output[\u001b[39m1\u001b[39m], x_goal[\u001b[39m1\u001b[39m])\n\u001b[1;32m     32\u001b[0m test_y_path \u001b[39m=\u001b[39m np\u001b[39m.\u001b[39mappend(x_start[\u001b[39m1\u001b[39m], test_y_path)\n\u001b[0;32m---> 34\u001b[0m plot\u001b[39m.\u001b[39;49mvis_path(test_x_path, test_y_path)\n",
      "\u001b[0;31mTypeError\u001b[0m: vis_path() takes 1 positional argument but 2 were given"
     ]
    }
   ],
   "source": [
    "#test_pathの表示\n",
    "import plot\n",
    "import random\n",
    "\n",
    "#入力のサンプリング\n",
    "x_start = (random.uniform(-2, 4), random.uniform(-3, 3))  # Starting node\n",
    "x_goal = (random.uniform(26, 32), random.uniform(-3, 3))  # Goal node\n",
    "\n",
    "theta_start = random.uniform(-np.pi/2, np.pi/2)\n",
    "theta_goal = random.uniform(-np.pi/2, np.pi/2)\n",
    "\n",
    "test_data = np.array([[x_start[0], x_goal[0], x_start[1], x_goal[1], theta_start, theta_goal]])\n",
    "print(test_data)\n",
    "test_data = TestDataset(test_data)\n",
    "test_loader = torch.utils.data.DataLoader(test_data, batch_size=1, shuffle=False)\n",
    "\n",
    "#予測モード\n",
    "model.eval()\n",
    "with torch.no_grad():\n",
    "    input_data, _ = next(iter(test_loader))\n",
    "    input_data = input_data.to(device)\n",
    "    print(input_data)\n",
    "    output = model(input_data)\n",
    "    print(output)\n",
    "    output = output.view(2, -1)\n",
    "    print(output)\n",
    "    \n",
    "output = output.cpu().numpy()\n",
    "test_x_path = np.append(output[0], x_goal[0])\n",
    "test_x_path = np.append(x_start[0], test_x_path)\n",
    "test_y_path = np.append(output[1], x_goal[1])\n",
    "test_y_path = np.append(x_start[1], test_y_path)\n",
    "\n",
    "plot.vis_path(test_x_path, test_y_path)"
   ]
  },
  {
   "cell_type": "code",
   "execution_count": null,
   "metadata": {},
   "outputs": [],
   "source": []
  }
 ],
 "metadata": {
  "kernelspec": {
   "display_name": "Python 3",
   "language": "python",
   "name": "python3"
  },
  "language_info": {
   "codemirror_mode": {
    "name": "ipython",
    "version": 3
   },
   "file_extension": ".py",
   "mimetype": "text/x-python",
   "name": "python",
   "nbconvert_exporter": "python",
   "pygments_lexer": "ipython3",
   "version": "3.10.6"
  },
  "orig_nbformat": 4
 },
 "nbformat": 4,
 "nbformat_minor": 2
}
