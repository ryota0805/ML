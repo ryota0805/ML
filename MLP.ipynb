{
 "cells": [
  {
   "cell_type": "code",
   "execution_count": 1,
   "metadata": {},
   "outputs": [
    {
     "name": "stdout",
     "output_type": "stream",
     "text": [
      "NVIDIA RTX A2000 8GB Laptop GPU\n",
      "2.0.0+cu118 True\n",
      "cuda:0\n"
     ]
    }
   ],
   "source": [
    "import torch\n",
    "import torch.nn as nn\n",
    "from torch.utils.data import Dataset, DataLoader, random_split\n",
    "\n",
    "print(torch.cuda.get_device_name())\n",
    "print(torch.__version__, torch.cuda.is_available())\n",
    "device = torch.device('cuda:0' if torch.cuda.is_available() else 'cpu')\n",
    "print(device)"
   ]
  },
  {
   "cell_type": "code",
   "execution_count": 2,
   "metadata": {},
   "outputs": [],
   "source": [
    "import numpy as np\n",
    "import matplotlib.pyplot as plt"
   ]
  },
  {
   "cell_type": "code",
   "execution_count": 46,
   "metadata": {},
   "outputs": [
    {
     "data": {
      "text/plain": [
       "'\\nx_data = np.loadtxt(\\'../data/env2/x.csv\\', delimiter=\\',\\',encoding=\"utf-8-sig\")\\ny_data = np.loadtxt(\\'../data/env2/y.csv\\', delimiter=\\',\\',encoding=\"utf-8-sig\")\\ntheta_data = np.loadtxt(\\'../data/env2/theta.csv\\', delimiter=\\',\\',encoding=\"utf-8-sig\")\\n\\nx_data = np.loadtxt(\\'../data/env1/x_extract.csv\\', delimiter=\\',\\',encoding=\"utf-8-sig\")\\ny_data = np.loadtxt(\\'../data/env1/y_extract.csv\\', delimiter=\\',\\',encoding=\"utf-8-sig\")\\ntheta_data = np.loadtxt(\\'../data/env1/theta_extract.csv\\', delimiter=\\',\\',encoding=\"utf-8-sig\")\\n'"
      ]
     },
     "execution_count": 46,
     "metadata": {},
     "output_type": "execute_result"
    }
   ],
   "source": [
    "\n",
    "x_data = np.loadtxt('../data/env1/x.csv', delimiter=',',encoding=\"utf-8-sig\")\n",
    "y_data = np.loadtxt('../data/env1/y.csv', delimiter=',',encoding=\"utf-8-sig\")\n",
    "theta_data = np.loadtxt('../data/env1/theta.csv', delimiter=',',encoding=\"utf-8-sig\")\n",
    "\"\"\"\n",
    "x_data = np.loadtxt('../data/env2/x.csv', delimiter=',',encoding=\"utf-8-sig\")\n",
    "y_data = np.loadtxt('../data/env2/y.csv', delimiter=',',encoding=\"utf-8-sig\")\n",
    "theta_data = np.loadtxt('../data/env2/theta.csv', delimiter=',',encoding=\"utf-8-sig\")\n",
    "\n",
    "x_data = np.loadtxt('../data/env1/x_extract.csv', delimiter=',',encoding=\"utf-8-sig\")\n",
    "y_data = np.loadtxt('../data/env1/y_extract.csv', delimiter=',',encoding=\"utf-8-sig\")\n",
    "theta_data = np.loadtxt('../data/env1/theta_extract.csv', delimiter=',',encoding=\"utf-8-sig\")\n",
    "\"\"\""
   ]
  },
  {
   "cell_type": "code",
   "execution_count": 33,
   "metadata": {},
   "outputs": [],
   "source": [
    "x_data_input = np.stack([x_data[:, 0],x_data[:, -1]], axis=1)\n",
    "y_data_input = np.stack([y_data[:, 0],y_data[:, -1]], axis=1)\n",
    "theta_data_input = np.stack([theta_data[:, 0],theta_data[:, -1]], axis=1)\n",
    "\n",
    "x_data_output = x_data[:, 1:-1]\n",
    "y_data_output = y_data[:, 1:-1]"
   ]
  },
  {
   "cell_type": "code",
   "execution_count": 34,
   "metadata": {},
   "outputs": [
    {
     "name": "stdout",
     "output_type": "stream",
     "text": [
      "[[ 3.19393316 26.39875157 -1.91280395 -2.31644014 -0.84273024  0.55861484]\n",
      " [ 2.72943306 28.42131502  0.61612217 -1.5084224   1.00727544 -1.32000793]\n",
      " [-0.57183403 27.29676244 -0.45290591 -1.52252911  0.78680988  0.14739377]\n",
      " ...\n",
      " [ 2.35658391 30.50816895 -1.5458434  -0.40211897 -0.77622738  0.1658102 ]\n",
      " [ 0.53227556 27.74226378  1.18407679 -0.35504202 -1.04818083 -1.36028346]\n",
      " [ 3.79315855 29.50668667 -0.15362667  2.35930441  0.63152715  1.17514914]]\n",
      "[[ 3.47283178  4.2730657   5.11246094 ... -3.47095662 -3.12902914\n",
      "  -2.74722562]\n",
      " [ 2.97577858  3.6956368   4.54771857 ...  1.45733805  0.69721934\n",
      "  -0.20474688]\n",
      " [-0.1354571   0.70155071  1.60509283 ... -2.06987185 -1.88457129\n",
      "  -1.69747082]\n",
      " ...\n",
      " [ 2.76300566  3.71362397  4.73340957 ... -1.02727936 -0.8045078\n",
      "  -0.59586525]\n",
      " [ 0.53227556  1.44365564  3.06081017 ...  2.53650065  1.85792899\n",
      "   1.02647255]\n",
      " [ 4.40570252  5.12251826  5.85457686 ...  2.24526407  1.5706258\n",
      "   1.5706258 ]]\n"
     ]
    }
   ],
   "source": [
    "input_data = np.concatenate([x_data_input, y_data_input, theta_data_input], axis=1)\n",
    "output_data = np.concatenate([x_data_output, y_data_output], axis=1)\n",
    "\n",
    "print(input_data)\n",
    "print(output_data)"
   ]
  },
  {
   "cell_type": "code",
   "execution_count": 35,
   "metadata": {},
   "outputs": [
    {
     "data": {
      "text/plain": [
       "'\\n#input_dataに対して最小最大スケーリングを行う\\ninput_data_normalized = (input_data - np.min(input_data, axis=0)) / (np.max(input_data, axis=0) - np.min(input_data, axis=0))\\nprint(input_data_normalized)\\n'"
      ]
     },
     "execution_count": 35,
     "metadata": {},
     "output_type": "execute_result"
    }
   ],
   "source": [
    "\"\"\"\n",
    "#input_dataに対して最小最大スケーリングを行う\n",
    "input_data_normalized = (input_data - np.min(input_data, axis=0)) / (np.max(input_data, axis=0) - np.min(input_data, axis=0))\n",
    "print(input_data_normalized)\n",
    "\"\"\""
   ]
  },
  {
   "cell_type": "code",
   "execution_count": 36,
   "metadata": {},
   "outputs": [],
   "source": [
    "class MyDataset(Dataset):\n",
    "    def __init__(self, input_data, output_data):\n",
    "        super(MyDataset, self).__init__()\n",
    "        self.input_data = input_data\n",
    "        self.output_data = output_data\n",
    "\n",
    "    def __getitem__(self, index):\n",
    "        input = torch.tensor(self.input_data[index], dtype=torch.float32)\n",
    "        output = torch.tensor(self.output_data[index], dtype=torch.float32)\n",
    "        return input, output\n",
    "\n",
    "    def __len__(self):\n",
    "        return len(self.input_data)"
   ]
  },
  {
   "cell_type": "code",
   "execution_count": 37,
   "metadata": {},
   "outputs": [],
   "source": [
    "train_valid_data = MyDataset(input_data, output_data)\n",
    "\n",
    "val_size = int(0.2 * len(train_valid_data))\n",
    "train_data, val_data = torch.utils.data.random_split(train_valid_data, [len(train_valid_data)-val_size, val_size])"
   ]
  },
  {
   "cell_type": "code",
   "execution_count": 38,
   "metadata": {},
   "outputs": [
    {
     "data": {
      "text/plain": [
       "1264"
      ]
     },
     "execution_count": 38,
     "metadata": {},
     "output_type": "execute_result"
    }
   ],
   "source": [
    "val_size"
   ]
  },
  {
   "cell_type": "code",
   "execution_count": 39,
   "metadata": {},
   "outputs": [
    {
     "data": {
      "text/plain": [
       "(tensor([ 3.7455, 27.8834,  0.6830, -1.7154,  0.1391,  0.2794]),\n",
       " tensor([ 4.0648,  5.0276,  5.8099,  6.5335,  7.2564,  8.0476,  9.8231, 11.1920,\n",
       "         11.9661, 12.6613, 13.3133, 13.9396, 14.5537, 15.1680, 15.7963, 16.4567,\n",
       "         17.1818, 18.0803, 19.2855, 20.2242, 21.1232, 22.0011, 22.8669, 23.7243,\n",
       "         24.5750, 25.4173, 26.2461, 27.0644,  0.7277,  0.8625,  1.0842,  1.3362,\n",
       "          1.6084,  1.9048,  2.4955,  2.2908,  1.9421,  1.5639,  1.1659,  0.7546,\n",
       "          0.3335, -0.0955, -0.5314, -0.9745, -1.4289, -1.9266, -2.4263, -2.5984,\n",
       "         -2.6777, -2.6915, -2.6535, -2.5723, -2.4541, -2.3045, -2.1293, -1.9327]))"
      ]
     },
     "execution_count": 39,
     "metadata": {},
     "output_type": "execute_result"
    }
   ],
   "source": [
    "train_data[0]"
   ]
  },
  {
   "cell_type": "code",
   "execution_count": 40,
   "metadata": {},
   "outputs": [],
   "source": [
    "batch_size = 64\n",
    "\n",
    "dataloader_train = torch.utils.data.DataLoader(\n",
    "    train_data,\n",
    "    batch_size=batch_size,\n",
    "    shuffle=True\n",
    ")\n",
    "\n",
    "dataloader_valid = torch.utils.data.DataLoader(\n",
    "    val_data,\n",
    "    batch_size=batch_size,\n",
    "    shuffle=True\n",
    ")"
   ]
  },
  {
   "cell_type": "code",
   "execution_count": 41,
   "metadata": {},
   "outputs": [],
   "source": [
    "class MLP(nn.Module):\n",
    "    def __init__(self, input_size, hidden_size, output_size):\n",
    "        super(MLP, self).__init__()\n",
    "        self.fc1 = nn.Linear(input_size, hidden_size)\n",
    "        self.relu = nn.ReLU()\n",
    "        self.fc2 = nn.Linear(hidden_size, hidden_size)\n",
    "        self.relu = nn.ReLU()\n",
    "        self.fc3 = nn.Linear(hidden_size, output_size)\n",
    "        \n",
    "    def forward(self, x):\n",
    "        out = self.fc1(x)\n",
    "        out = self.relu(out)\n",
    "        out = self.fc2(out)\n",
    "        out = self.relu(out)\n",
    "        out = self.fc2(out)\n",
    "        out = self.relu(out)\n",
    "        out = self.fc2(out)\n",
    "        out = self.relu(out)\n",
    "        out = self.fc3(out)\n",
    "        return out"
   ]
  },
  {
   "cell_type": "code",
   "execution_count": 42,
   "metadata": {},
   "outputs": [],
   "source": [
    "# ハイパーパラメータの設定\n",
    "input_size = input_data.shape[1]\n",
    "hidden_size = 2000\n",
    "output_size = output_data.shape[1]\n",
    "learning_rate = 0.001\n",
    "num_epochs = 100\n",
    "\n",
    "# モデルの定義\n",
    "model = MLP(input_size, hidden_size, output_size).to(device)"
   ]
  },
  {
   "cell_type": "code",
   "execution_count": 43,
   "metadata": {},
   "outputs": [
    {
     "name": "stdout",
     "output_type": "stream",
     "text": [
      "Epoch [1/100], Loss: 0.5709, val_loss: 0.1053\n",
      "Epoch [2/100], Loss: 0.0993, val_loss: 0.0822\n",
      "Epoch [3/100], Loss: 0.0521, val_loss: 0.0429\n",
      "Epoch [4/100], Loss: 0.0411, val_loss: 0.0578\n",
      "Epoch [5/100], Loss: 0.0380, val_loss: 0.0355\n",
      "Epoch [6/100], Loss: 0.0307, val_loss: 0.0274\n",
      "Epoch [7/100], Loss: 0.0279, val_loss: 0.0291\n",
      "Epoch [8/100], Loss: 0.0282, val_loss: 0.0273\n",
      "Epoch [9/100], Loss: 0.0279, val_loss: 0.0278\n",
      "Epoch [10/100], Loss: 0.0257, val_loss: 0.0360\n",
      "Epoch [11/100], Loss: 0.0271, val_loss: 0.0258\n",
      "Epoch [12/100], Loss: 0.0274, val_loss: 0.0281\n",
      "Epoch [13/100], Loss: 0.0260, val_loss: 0.0321\n",
      "Epoch [14/100], Loss: 0.0261, val_loss: 0.0390\n",
      "Epoch [15/100], Loss: 0.0259, val_loss: 0.0245\n",
      "Epoch [16/100], Loss: 0.0244, val_loss: 0.0272\n",
      "Epoch [17/100], Loss: 0.0260, val_loss: 0.0241\n",
      "Epoch [18/100], Loss: 0.0239, val_loss: 0.0241\n",
      "Epoch [19/100], Loss: 0.0257, val_loss: 0.0289\n",
      "Epoch [20/100], Loss: 0.0250, val_loss: 0.0305\n",
      "Epoch [21/100], Loss: 0.0244, val_loss: 0.0405\n",
      "Epoch [22/100], Loss: 0.0268, val_loss: 0.0433\n",
      "Epoch [23/100], Loss: 0.0263, val_loss: 0.0408\n",
      "Epoch [24/100], Loss: 0.0254, val_loss: 0.0376\n",
      "Epoch [25/100], Loss: 0.0269, val_loss: 0.0241\n",
      "Epoch [26/100], Loss: 0.0230, val_loss: 0.0318\n",
      "Epoch [27/100], Loss: 0.0245, val_loss: 0.0280\n",
      "Epoch [28/100], Loss: 0.0237, val_loss: 0.0238\n",
      "Epoch [29/100], Loss: 0.0235, val_loss: 0.0246\n",
      "Epoch [30/100], Loss: 0.0231, val_loss: 0.0242\n",
      "Epoch [31/100], Loss: 0.0222, val_loss: 0.0228\n",
      "Epoch [32/100], Loss: 0.0225, val_loss: 0.0312\n",
      "Epoch [33/100], Loss: 0.0247, val_loss: 0.0315\n",
      "Epoch [34/100], Loss: 0.0237, val_loss: 0.0231\n",
      "Epoch [35/100], Loss: 0.0220, val_loss: 0.0233\n",
      "Epoch [36/100], Loss: 0.0227, val_loss: 0.0244\n",
      "Epoch [37/100], Loss: 0.0238, val_loss: 0.0239\n",
      "Epoch [38/100], Loss: 0.0239, val_loss: 0.0249\n",
      "Epoch [39/100], Loss: 0.0218, val_loss: 0.0264\n",
      "Epoch [40/100], Loss: 0.0220, val_loss: 0.0234\n",
      "Epoch [41/100], Loss: 0.0221, val_loss: 0.0259\n",
      "Epoch [42/100], Loss: 0.0227, val_loss: 0.0261\n",
      "Epoch [43/100], Loss: 0.0232, val_loss: 0.0244\n",
      "Epoch [44/100], Loss: 0.0219, val_loss: 0.0239\n",
      "Epoch [45/100], Loss: 0.0224, val_loss: 0.0218\n",
      "Epoch [46/100], Loss: 0.0217, val_loss: 0.0231\n",
      "Epoch [47/100], Loss: 0.0216, val_loss: 0.0250\n",
      "Epoch [48/100], Loss: 0.0216, val_loss: 0.0254\n",
      "Epoch [49/100], Loss: 0.0222, val_loss: 0.0351\n",
      "Epoch [50/100], Loss: 0.0219, val_loss: 0.0236\n",
      "Epoch [51/100], Loss: 0.0222, val_loss: 0.0337\n",
      "Epoch [52/100], Loss: 0.0231, val_loss: 0.0225\n",
      "Epoch [53/100], Loss: 0.0220, val_loss: 0.0235\n",
      "Epoch [54/100], Loss: 0.0226, val_loss: 0.0240\n",
      "Epoch [55/100], Loss: 0.0218, val_loss: 0.0236\n",
      "Epoch [56/100], Loss: 0.0215, val_loss: 0.0214\n",
      "Epoch [57/100], Loss: 0.0209, val_loss: 0.0234\n",
      "Epoch [58/100], Loss: 0.0219, val_loss: 0.0296\n",
      "Epoch [59/100], Loss: 0.0216, val_loss: 0.0221\n",
      "Epoch [60/100], Loss: 0.0205, val_loss: 0.0224\n",
      "Epoch [61/100], Loss: 0.0206, val_loss: 0.0215\n",
      "Epoch [62/100], Loss: 0.0211, val_loss: 0.0238\n",
      "Epoch [63/100], Loss: 0.0211, val_loss: 0.0219\n",
      "Epoch [64/100], Loss: 0.0224, val_loss: 0.0265\n",
      "Epoch [65/100], Loss: 0.0219, val_loss: 0.0208\n",
      "Epoch [66/100], Loss: 0.0208, val_loss: 0.0224\n",
      "Epoch [67/100], Loss: 0.0212, val_loss: 0.0226\n",
      "Epoch [68/100], Loss: 0.0209, val_loss: 0.0247\n",
      "Epoch [69/100], Loss: 0.0209, val_loss: 0.0224\n",
      "Epoch [70/100], Loss: 0.0213, val_loss: 0.0220\n",
      "Epoch [71/100], Loss: 0.0208, val_loss: 0.0236\n",
      "Epoch [72/100], Loss: 0.0202, val_loss: 0.0211\n",
      "Epoch [73/100], Loss: 0.0203, val_loss: 0.0206\n",
      "Epoch [74/100], Loss: 0.0203, val_loss: 0.0237\n",
      "Epoch [75/100], Loss: 0.0205, val_loss: 0.0219\n",
      "Epoch [76/100], Loss: 0.0208, val_loss: 0.0273\n",
      "Epoch [77/100], Loss: 0.0216, val_loss: 0.0208\n",
      "Epoch [78/100], Loss: 0.0201, val_loss: 0.0214\n",
      "Epoch [79/100], Loss: 0.0197, val_loss: 0.0244\n",
      "Epoch [80/100], Loss: 0.0227, val_loss: 0.0511\n",
      "Epoch [81/100], Loss: 0.0235, val_loss: 0.0213\n",
      "Epoch [82/100], Loss: 0.0195, val_loss: 0.0231\n",
      "Epoch [83/100], Loss: 0.0197, val_loss: 0.0220\n",
      "Epoch [84/100], Loss: 0.0191, val_loss: 0.0210\n",
      "Epoch [85/100], Loss: 0.0199, val_loss: 0.0217\n",
      "Epoch [86/100], Loss: 0.0202, val_loss: 0.0214\n",
      "Epoch [87/100], Loss: 0.0193, val_loss: 0.0215\n",
      "Epoch [88/100], Loss: 0.0191, val_loss: 0.0208\n",
      "Epoch [89/100], Loss: 0.0196, val_loss: 0.0218\n",
      "Epoch [90/100], Loss: 0.0190, val_loss: 0.0212\n",
      "Epoch [91/100], Loss: 0.0192, val_loss: 0.0219\n",
      "Epoch [92/100], Loss: 0.0202, val_loss: 0.0250\n",
      "Epoch [93/100], Loss: 0.0201, val_loss: 0.0238\n",
      "Epoch [94/100], Loss: 0.0199, val_loss: 0.0253\n",
      "Epoch [95/100], Loss: 0.0199, val_loss: 0.0211\n",
      "Epoch [96/100], Loss: 0.0198, val_loss: 0.0259\n",
      "Epoch [97/100], Loss: 0.0214, val_loss: 0.0235\n",
      "Epoch [98/100], Loss: 0.0207, val_loss: 0.0221\n",
      "Epoch [99/100], Loss: 0.0207, val_loss: 0.0209\n",
      "Epoch [100/100], Loss: 0.0189, val_loss: 0.0234\n"
     ]
    }
   ],
   "source": [
    "# 損失関数の定義\n",
    "criterion = nn.MSELoss()\n",
    "\n",
    "# オプティマイザの定義\n",
    "optimizer = torch.optim.Adam(model.parameters(), lr=learning_rate)\n",
    "\n",
    "#トレーニングの開始\n",
    "train_loss_list, val_loss_list = [], []\n",
    "\n",
    "for epoch in range(num_epochs):\n",
    "    train_loss, val_loss = 0, 0\n",
    "    \n",
    "    #train_mode\n",
    "    model.train()\n",
    "    for i, (input_data, output_data) in enumerate(dataloader_train):\n",
    "        # データをGPUに転送\n",
    "        input_data, output_data = input_data.to(device), output_data.to(device)\n",
    "        \n",
    "        # モデルの出力を計算\n",
    "        output = model(input_data.view(-1, input_size))\n",
    "        \n",
    "        # 損失関数の適用\n",
    "        loss = criterion(output, output_data)\n",
    "        \n",
    "        #train_lossに結果を蓄積\n",
    "        train_loss += loss.item()\n",
    "        \n",
    "        # 勾配を初期化して逆伝播\n",
    "        optimizer.zero_grad()\n",
    "        loss.backward()\n",
    "        optimizer.step()\n",
    "        \n",
    "        # lossの平均を計算\n",
    "        avg_train_loss = train_loss / len(dataloader_train.dataset)  \n",
    "        \n",
    "    #valid_mode\n",
    "    model.eval()\n",
    "    with torch.no_grad():\n",
    "        for input_data, output_data in dataloader_valid:\n",
    "            # データをGPUに転送\n",
    "            input_data, output_data = input_data.to(device), output_data.to(device)\n",
    "            \n",
    "            # モデルの出力を計算\n",
    "            output = model(input_data.view(-1, input_size))\n",
    "            \n",
    "            # 損失関数の適用\n",
    "            loss = criterion(output, output_data)\n",
    "        \n",
    "            #val_lossに結果を蓄積\n",
    "            val_loss += loss.item()\n",
    "    \n",
    "    # lossの平均を計算      \n",
    "    avg_val_loss = val_loss / len(dataloader_valid.dataset)\n",
    "    \n",
    "    # print log\n",
    "    print ('Epoch [{}/{}], Loss: {loss:.4f}, val_loss: {val_loss:.4f}'.format(epoch+1, num_epochs, i+1, loss=avg_train_loss, val_loss=avg_val_loss))\n",
    "    \n",
    "    # append list for polt graph after training\n",
    "    train_loss_list.append(avg_train_loss)\n",
    "    val_loss_list.append(avg_val_loss)\n",
    "\n"
   ]
  },
  {
   "cell_type": "code",
   "execution_count": 44,
   "metadata": {},
   "outputs": [
    {
     "data": {
      "image/png": "[encoded data removed]",
      "text/plain": [
       "<Figure size 640x480 with 1 Axes>"
      ]
     },
     "metadata": {},
     "output_type": "display_data"
    }
   ],
   "source": [
    "plt.figure()\n",
    "plt.plot(range(num_epochs), train_loss_list, color='blue', linestyle='-', label='train_loss')\n",
    "plt.plot(range(num_epochs), val_loss_list, color='green', linestyle='--', label='val_loss')\n",
    "plt.legend()\n",
    "plt.xlabel('epoch')\n",
    "plt.ylabel('loss')\n",
    "plt.title('Training and validation loss')\n",
    "plt.grid()"
   ]
  },
  {
   "cell_type": "code",
   "execution_count": 45,
   "metadata": {},
   "outputs": [],
   "source": [
    "#save model\n",
    "torch.save(model.state_dict(), '../saved_models/MLP_env1_first_quantile.pth')"
   ]
  },
  {
   "cell_type": "code",
   "execution_count": 53,
   "metadata": {},
   "outputs": [
    {
     "name": "stdout",
     "output_type": "stream",
     "text": [
      "MLP(\n",
      "  (fc1): Linear(in_features=6, out_features=2000, bias=True)\n",
      "  (relu): ReLU()\n",
      "  (fc2): Linear(in_features=2000, out_features=2000, bias=True)\n",
      "  (fc3): Linear(in_features=2000, out_features=56, bias=True)\n",
      ")\n"
     ]
    }
   ],
   "source": [
    "#read model\n",
    "model = MLP(input_size, hidden_size, output_size).to(device)\n",
    "model.load_state_dict(torch.load('../saved_models/MLP_env1_extract.pth'))\n",
    "print(model)"
   ]
  },
  {
   "cell_type": "code",
   "execution_count": 54,
   "metadata": {},
   "outputs": [],
   "source": [
    "class TestDataset(Dataset):\n",
    "    def __init__(self, test_data):\n",
    "        self.test_data = test_data\n",
    "\n",
    "    def __len__(self):\n",
    "        return len(self.test_data)\n",
    "\n",
    "    def __getitem__(self, index):\n",
    "        input = torch.tensor(self.test_data[index], dtype=torch.float32)\n",
    "        output = 0\n",
    "        return input, output"
   ]
  },
  {
   "cell_type": "code",
   "execution_count": 57,
   "metadata": {},
   "outputs": [
    {
     "name": "stdout",
     "output_type": "stream",
     "text": [
      "初期姿勢：-65°, 終端姿勢：44°\n",
      "True\n"
     ]
    },
    {
     "data": {
      "image/png": "[encoded data removed]",
      "text/plain": [
       "<Figure size 640x480 with 1 Axes>"
      ]
     },
     "metadata": {},
     "output_type": "display_data"
    }
   ],
   "source": [
    "#test_pathの表示\n",
    "import plot\n",
    "import random\n",
    "import utils\n",
    "\n",
    "#入力のサンプリング\n",
    "x_start = (random.uniform(-2, 4), random.uniform(-3, 3))  # Starting node\n",
    "x_goal = (random.uniform(26, 32), random.uniform(-3, 3))  # Goal node\n",
    "\n",
    "theta_start = random.uniform(-np.pi/2, np.pi/2)\n",
    "theta_goal = random.uniform(-np.pi/2, np.pi/2)\n",
    "\n",
    "test_data = np.array([[x_start[0], x_goal[0], x_start[1], x_goal[1], theta_start, theta_goal]])\n",
    "\n",
    "\"\"\"\n",
    "#正規化する\n",
    "input_data = np.concatenate([x_data_input, y_data_input, theta_data_input], axis=1)\n",
    "test_data = (test_data - np.min(input_data, axis=0)) / (np.max(input_data, axis=0) - np.min(input_data, axis=0))\n",
    "\"\"\"\n",
    "\n",
    "test_data = TestDataset(test_data)\n",
    "test_loader = torch.utils.data.DataLoader(test_data, batch_size=1, shuffle=False)\n",
    "\n",
    "#予測モード\n",
    "model.eval()\n",
    "with torch.no_grad():\n",
    "    input_data, _ = next(iter(test_loader))\n",
    "    input_data = input_data.to(device)\n",
    "    output = model(input_data)\n",
    "    output = output.view(2, -1)\n",
    "\n",
    "    \n",
    "output = output.cpu().numpy()\n",
    "test_x_path = np.append(output[0], x_goal[0])\n",
    "test_x_path = np.append(x_start[0], test_x_path)\n",
    "test_y_path = np.append(output[1], x_goal[1])\n",
    "test_y_path = np.append(x_start[1], test_y_path)\n",
    "print(\"初期姿勢：{}°, 終端姿勢：{}°\".format(int(np.degrees(theta_start)), int(np.degrees(theta_goal))))\n",
    "print(utils.is_collision_free(test_x_path, test_y_path))\n",
    "plot.vis_path_env1(test_x_path, test_y_path)"
   ]
  },
  {
   "cell_type": "code",
   "execution_count": null,
   "metadata": {},
   "outputs": [],
   "source": []
  }
 ],
 "metadata": {
  "kernelspec": {
   "display_name": "Python 3",
   "language": "python",
   "name": "python3"
  },
  "language_info": {
   "codemirror_mode": {
    "name": "ipython",
    "version": 3
   },
   "file_extension": ".py",
   "mimetype": "text/x-python",
   "name": "python",
   "nbconvert_exporter": "python",
   "pygments_lexer": "ipython3",
   "version": "3.10.6"
  },
  "orig_nbformat": 4
 },
 "nbformat": 4,
 "nbformat_minor": 2
}
