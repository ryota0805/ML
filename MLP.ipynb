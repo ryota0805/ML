{
 "cells": [
  {
   "cell_type": "code",
   "execution_count": 1,
   "metadata": {},
   "outputs": [
    {
     "name": "stdout",
     "output_type": "stream",
     "text": [
      "NVIDIA RTX A2000 8GB Laptop GPU\n",
      "2.0.0+cu118 True\n",
      "cuda:0\n"
     ]
    }
   ],
   "source": [
    "import torch\n",
    "import torch.nn as nn\n",
    "from torch.utils.data import Dataset, DataLoader, random_split\n",
    "\n",
    "print(torch.cuda.get_device_name())\n",
    "print(torch.__version__, torch.cuda.is_available())\n",
    "device = torch.device('cuda:0' if torch.cuda.is_available() else 'cpu')\n",
    "print(device)"
   ]
  },
  {
   "cell_type": "code",
   "execution_count": 2,
   "metadata": {},
   "outputs": [],
   "source": [
    "import numpy as np\n",
    "import matplotlib.pyplot as plt"
   ]
  },
  {
   "cell_type": "code",
   "execution_count": 3,
   "metadata": {},
   "outputs": [
    {
     "data": {
      "text/plain": [
       "'\\nx_data = np.loadtxt(\\'../data/env2/x.csv\\', delimiter=\\',\\',encoding=\"utf-8-sig\")\\ny_data = np.loadtxt(\\'../data/env2/y.csv\\', delimiter=\\',\\',encoding=\"utf-8-sig\")\\ntheta_data = np.loadtxt(\\'../data/env2/theta.csv\\', delimiter=\\',\\',encoding=\"utf-8-sig\")\\n\\nx_data = np.loadtxt(\\'../data/env1/x_extract.csv\\', delimiter=\\',\\',encoding=\"utf-8-sig\")\\ny_data = np.loadtxt(\\'../data/env1/y_extract.csv\\', delimiter=\\',\\',encoding=\"utf-8-sig\")\\ntheta_data = np.loadtxt(\\'../data/env1/theta_extract.csv\\', delimiter=\\',\\',encoding=\"utf-8-sig\")\\n'"
      ]
     },
     "execution_count": 3,
     "metadata": {},
     "output_type": "execute_result"
    }
   ],
   "source": [
    "\n",
    "x_data = np.loadtxt('../data/env1/x.csv', delimiter=',',encoding=\"utf-8-sig\")\n",
    "y_data = np.loadtxt('../data/env1/y.csv', delimiter=',',encoding=\"utf-8-sig\")\n",
    "theta_data = np.loadtxt('../data/env1/theta.csv', delimiter=',',encoding=\"utf-8-sig\")\n",
    "\"\"\"\n",
    "x_data = np.loadtxt('../data/env2/x.csv', delimiter=',',encoding=\"utf-8-sig\")\n",
    "y_data = np.loadtxt('../data/env2/y.csv', delimiter=',',encoding=\"utf-8-sig\")\n",
    "theta_data = np.loadtxt('../data/env2/theta.csv', delimiter=',',encoding=\"utf-8-sig\")\n",
    "\n",
    "x_data = np.loadtxt('../data/env1/x_extract.csv', delimiter=',',encoding=\"utf-8-sig\")\n",
    "y_data = np.loadtxt('../data/env1/y_extract.csv', delimiter=',',encoding=\"utf-8-sig\")\n",
    "theta_data = np.loadtxt('../data/env1/theta_extract.csv', delimiter=',',encoding=\"utf-8-sig\")\n",
    "\"\"\""
   ]
  },
  {
   "cell_type": "code",
   "execution_count": 4,
   "metadata": {},
   "outputs": [],
   "source": [
    "x_data_input = np.stack([x_data[:, 0],x_data[:, -1]], axis=1)\n",
    "y_data_input = np.stack([y_data[:, 0],y_data[:, -1]], axis=1)\n",
    "theta_data_input = np.stack([theta_data[:, 0],theta_data[:, -1]], axis=1)\n",
    "\n",
    "x_data_output = x_data[:, 1:-1]\n",
    "y_data_output = y_data[:, 1:-1]"
   ]
  },
  {
   "cell_type": "code",
   "execution_count": 5,
   "metadata": {},
   "outputs": [
    {
     "name": "stdout",
     "output_type": "stream",
     "text": [
      "[[-1.95089677 26.85336784  2.90165733  0.51550384  0.76052138  0.2704835 ]\n",
      " [-1.39265343 28.42921012  1.67284633 -1.89030781 -1.53883245 -0.03173356]\n",
      " [-1.76492294 29.18854837  2.25704062  0.716587    0.2927443   0.83952279]\n",
      " ...\n",
      " [-1.31542913 28.42032177 -2.72933061  0.55586043 -0.37881141 -1.12815121]\n",
      " [ 3.85745585 27.59609971  0.2057426  -1.91472504 -1.21443498  0.76625774]\n",
      " [ 0.52651487 29.04215692  1.06680278  2.89433747 -1.32301624 -0.17481412]]\n",
      "[[-1.68718655 -0.55750106  0.61453933 ... -1.00577329 -0.52344684\n",
      "  -0.02743804]\n",
      " [-1.39265343 -1.32873657 -1.32873657 ... -2.21776662 -2.07738736\n",
      "  -1.95777503]\n",
      " [-0.78487723  0.35221506  1.50500404 ... -1.27094711 -0.73473553\n",
      "  -0.08622076]\n",
      " ...\n",
      " [-1.31542913  0.34409731  1.50640375 ... -0.57499886  0.45744451\n",
      "   1.25732107]\n",
      " [ 3.85745585  4.43214483  5.09614909 ... -2.85605095 -2.69107545\n",
      "  -2.4428802 ]\n",
      " [ 0.52651487  0.52651487  1.01701977 ...  3.53108216  3.3123551\n",
      "   3.09773156]]\n"
     ]
    }
   ],
   "source": [
    "input_data = np.concatenate([x_data_input, y_data_input, theta_data_input], axis=1)\n",
    "output_data = np.concatenate([x_data_output, y_data_output], axis=1)\n",
    "\n",
    "print(input_data)\n",
    "print(output_data)"
   ]
  },
  {
   "cell_type": "code",
   "execution_count": 6,
   "metadata": {},
   "outputs": [
    {
     "data": {
      "text/plain": [
       "'\\n#input_dataに対して最小最大スケーリングを行う\\ninput_data_normalized = (input_data - np.min(input_data, axis=0)) / (np.max(input_data, axis=0) - np.min(input_data, axis=0))\\nprint(input_data_normalized)\\n'"
      ]
     },
     "execution_count": 6,
     "metadata": {},
     "output_type": "execute_result"
    }
   ],
   "source": [
    "\"\"\"\n",
    "#input_dataに対して最小最大スケーリングを行う\n",
    "input_data_normalized = (input_data - np.min(input_data, axis=0)) / (np.max(input_data, axis=0) - np.min(input_data, axis=0))\n",
    "print(input_data_normalized)\n",
    "\"\"\""
   ]
  },
  {
   "cell_type": "code",
   "execution_count": 7,
   "metadata": {},
   "outputs": [],
   "source": [
    "class MyDataset(Dataset):\n",
    "    def __init__(self, input_data, output_data):\n",
    "        super(MyDataset, self).__init__()\n",
    "        self.input_data = input_data\n",
    "        self.output_data = output_data\n",
    "\n",
    "    def __getitem__(self, index):\n",
    "        input = torch.tensor(self.input_data[index], dtype=torch.float32)\n",
    "        output = torch.tensor(self.output_data[index], dtype=torch.float32)\n",
    "        return input, output\n",
    "\n",
    "    def __len__(self):\n",
    "        return len(self.input_data)"
   ]
  },
  {
   "cell_type": "code",
   "execution_count": 8,
   "metadata": {},
   "outputs": [],
   "source": [
    "train_valid_data = MyDataset(input_data, output_data)\n",
    "\n",
    "val_size = 2000\n",
    "train_data, val_data = torch.utils.data.random_split(train_valid_data, [len(train_valid_data)-val_size, val_size])"
   ]
  },
  {
   "cell_type": "code",
   "execution_count": 10,
   "metadata": {},
   "outputs": [
    {
     "data": {
      "text/plain": [
       "(tensor([-1.4097, 30.4821, -1.9517,  1.7120,  1.3183, -0.6094]),\n",
       " tensor([-1.3186, -0.8960,  0.0413,  1.0920,  2.1885,  3.3123,  4.4515,  5.6056,\n",
       "          6.7692,  7.9380,  9.1111, 10.2909, 11.4739, 12.6538, 13.8260, 14.9916,\n",
       "         16.1591, 17.3342, 18.5080, 19.6926, 20.9027, 22.1124, 23.3094, 24.5047,\n",
       "         25.7008, 26.8939, 28.0838, 29.2748, -1.5987,  0.0392,  1.0433,  1.7789,\n",
       "          2.3433,  2.7910,  3.1522,  3.4484,  3.6932,  3.8964,  4.0657,  4.2071,\n",
       "          4.3237,  4.4171,  4.4885,  4.5386,  4.5669,  4.5707,  4.5459,  4.4865,\n",
       "          4.3816,  4.2340,  4.0470,  3.8188,  3.5445,  3.2165,  2.8215,  2.3357]))"
      ]
     },
     "execution_count": 10,
     "metadata": {},
     "output_type": "execute_result"
    }
   ],
   "source": [
    "train_data[0]"
   ]
  },
  {
   "cell_type": "code",
   "execution_count": 33,
   "metadata": {},
   "outputs": [],
   "source": [
    "batch_size = 64\n",
    "\n",
    "dataloader_train = torch.utils.data.DataLoader(\n",
    "    train_data,\n",
    "    batch_size=batch_size,\n",
    "    shuffle=True\n",
    ")\n",
    "\n",
    "dataloader_valid = torch.utils.data.DataLoader(\n",
    "    val_data,\n",
    "    batch_size=batch_size,\n",
    "    shuffle=True\n",
    ")"
   ]
  },
  {
   "cell_type": "code",
   "execution_count": 34,
   "metadata": {},
   "outputs": [],
   "source": [
    "class MLP(nn.Module):\n",
    "    def __init__(self, input_size, hidden_size, output_size):\n",
    "        super(MLP, self).__init__()\n",
    "        self.fc1 = nn.Linear(input_size, hidden_size)\n",
    "        self.relu = nn.ReLU()\n",
    "        self.fc2 = nn.Linear(hidden_size, hidden_size)\n",
    "        self.relu = nn.ReLU()\n",
    "        self.fc3 = nn.Linear(hidden_size, output_size)\n",
    "        \n",
    "    def forward(self, x):\n",
    "        out = self.fc1(x)\n",
    "        out = self.relu(out)\n",
    "        out = self.fc2(out)\n",
    "        out = self.relu(out)\n",
    "        out = self.fc2(out)\n",
    "        out = self.relu(out)\n",
    "        out = self.fc2(out)\n",
    "        out = self.relu(out)\n",
    "        out = self.fc3(out)\n",
    "        return out"
   ]
  },
  {
   "cell_type": "code",
   "execution_count": 35,
   "metadata": {},
   "outputs": [],
   "source": [
    "# ハイパーパラメータの設定\n",
    "input_size = input_data.shape[1]\n",
    "hidden_size = 2000\n",
    "output_size = output_data.shape[1]\n",
    "learning_rate = 0.001\n",
    "num_epochs = 100\n",
    "\n",
    "# モデルの定義\n",
    "model = MLP(input_size, hidden_size, output_size).to(device)"
   ]
  },
  {
   "cell_type": "code",
   "execution_count": 36,
   "metadata": {},
   "outputs": [
    {
     "name": "stdout",
     "output_type": "stream",
     "text": [
      "Epoch [1/100], Loss: 0.3518, val_loss: 0.0799\n",
      "Epoch [2/100], Loss: 0.0755, val_loss: 0.0752\n",
      "Epoch [3/100], Loss: 0.0679, val_loss: 0.0628\n",
      "Epoch [4/100], Loss: 0.0569, val_loss: 0.0587\n",
      "Epoch [5/100], Loss: 0.0572, val_loss: 0.0558\n",
      "Epoch [6/100], Loss: 0.0556, val_loss: 0.0567\n",
      "Epoch [7/100], Loss: 0.0556, val_loss: 0.0578\n",
      "Epoch [8/100], Loss: 0.0553, val_loss: 0.0560\n",
      "Epoch [9/100], Loss: 0.0546, val_loss: 0.0553\n",
      "Epoch [10/100], Loss: 0.0550, val_loss: 0.0567\n",
      "Epoch [11/100], Loss: 0.0548, val_loss: 0.0551\n",
      "Epoch [12/100], Loss: 0.0542, val_loss: 0.0541\n",
      "Epoch [13/100], Loss: 0.0539, val_loss: 0.0541\n",
      "Epoch [14/100], Loss: 0.0541, val_loss: 0.0546\n",
      "Epoch [15/100], Loss: 0.0544, val_loss: 0.0551\n",
      "Epoch [16/100], Loss: 0.0543, val_loss: 0.0552\n",
      "Epoch [17/100], Loss: 0.0536, val_loss: 0.0544\n",
      "Epoch [18/100], Loss: 0.0532, val_loss: 0.0545\n",
      "Epoch [19/100], Loss: 0.0535, val_loss: 0.0539\n",
      "Epoch [20/100], Loss: 0.0539, val_loss: 0.0545\n",
      "Epoch [21/100], Loss: 0.0536, val_loss: 0.0544\n",
      "Epoch [22/100], Loss: 0.0536, val_loss: 0.0533\n",
      "Epoch [23/100], Loss: 0.0529, val_loss: 0.0565\n",
      "Epoch [24/100], Loss: 0.0540, val_loss: 0.0565\n",
      "Epoch [25/100], Loss: 0.0536, val_loss: 0.0539\n",
      "Epoch [26/100], Loss: 0.0535, val_loss: 0.0548\n",
      "Epoch [27/100], Loss: 0.0532, val_loss: 0.0541\n",
      "Epoch [28/100], Loss: 0.0530, val_loss: 0.0532\n",
      "Epoch [29/100], Loss: 0.0538, val_loss: 0.0534\n",
      "Epoch [30/100], Loss: 0.0534, val_loss: 0.0558\n",
      "Epoch [31/100], Loss: 0.0530, val_loss: 0.0589\n",
      "Epoch [32/100], Loss: 0.0532, val_loss: 0.0552\n",
      "Epoch [33/100], Loss: 0.0533, val_loss: 0.0573\n",
      "Epoch [34/100], Loss: 0.0536, val_loss: 0.0576\n",
      "Epoch [35/100], Loss: 0.0528, val_loss: 0.0530\n",
      "Epoch [36/100], Loss: 0.0531, val_loss: 0.0550\n",
      "Epoch [37/100], Loss: 0.0532, val_loss: 0.0541\n",
      "Epoch [38/100], Loss: 0.0534, val_loss: 0.0537\n",
      "Epoch [39/100], Loss: 0.0527, val_loss: 0.0603\n",
      "Epoch [40/100], Loss: 0.0529, val_loss: 0.0542\n",
      "Epoch [41/100], Loss: 0.0524, val_loss: 0.0546\n",
      "Epoch [42/100], Loss: 0.0528, val_loss: 0.0554\n",
      "Epoch [43/100], Loss: 0.0525, val_loss: 0.0589\n",
      "Epoch [44/100], Loss: 0.0527, val_loss: 0.0545\n",
      "Epoch [45/100], Loss: 0.0523, val_loss: 0.0529\n",
      "Epoch [46/100], Loss: 0.0523, val_loss: 0.0555\n",
      "Epoch [47/100], Loss: 0.0526, val_loss: 0.0531\n",
      "Epoch [48/100], Loss: 0.0522, val_loss: 0.0540\n",
      "Epoch [49/100], Loss: 0.0524, val_loss: 0.0548\n",
      "Epoch [50/100], Loss: 0.0523, val_loss: 0.0540\n",
      "Epoch [51/100], Loss: 0.0524, val_loss: 0.0539\n",
      "Epoch [52/100], Loss: 0.0521, val_loss: 0.0547\n",
      "Epoch [53/100], Loss: 0.0521, val_loss: 0.0531\n",
      "Epoch [54/100], Loss: 0.0526, val_loss: 0.0528\n",
      "Epoch [55/100], Loss: 0.0521, val_loss: 0.0560\n",
      "Epoch [56/100], Loss: 0.0529, val_loss: 0.0541\n",
      "Epoch [57/100], Loss: 0.0517, val_loss: 0.0537\n",
      "Epoch [58/100], Loss: 0.0521, val_loss: 0.0536\n",
      "Epoch [59/100], Loss: 0.0525, val_loss: 0.0539\n",
      "Epoch [60/100], Loss: 0.0520, val_loss: 0.0559\n",
      "Epoch [61/100], Loss: 0.0524, val_loss: 0.0540\n",
      "Epoch [62/100], Loss: 0.0517, val_loss: 0.0541\n",
      "Epoch [63/100], Loss: 0.0518, val_loss: 0.0536\n",
      "Epoch [64/100], Loss: 0.0521, val_loss: 0.0554\n",
      "Epoch [65/100], Loss: 0.0517, val_loss: 0.0564\n",
      "Epoch [66/100], Loss: 0.0521, val_loss: 0.0534\n",
      "Epoch [67/100], Loss: 0.0518, val_loss: 0.0540\n",
      "Epoch [68/100], Loss: 0.0516, val_loss: 0.0553\n",
      "Epoch [69/100], Loss: 0.0522, val_loss: 0.0531\n",
      "Epoch [70/100], Loss: 0.0522, val_loss: 0.0532\n",
      "Epoch [71/100], Loss: 0.0519, val_loss: 0.0593\n",
      "Epoch [72/100], Loss: 0.0519, val_loss: 0.0530\n",
      "Epoch [73/100], Loss: 0.0518, val_loss: 0.0547\n",
      "Epoch [74/100], Loss: 0.0520, val_loss: 0.0548\n",
      "Epoch [75/100], Loss: 0.0518, val_loss: 0.0529\n",
      "Epoch [76/100], Loss: 0.0515, val_loss: 0.0537\n",
      "Epoch [77/100], Loss: 0.0516, val_loss: 0.0537\n",
      "Epoch [78/100], Loss: 0.0520, val_loss: 0.0549\n",
      "Epoch [79/100], Loss: 0.0516, val_loss: 0.0538\n",
      "Epoch [80/100], Loss: 0.0522, val_loss: 0.0539\n",
      "Epoch [81/100], Loss: 0.0514, val_loss: 0.0538\n",
      "Epoch [82/100], Loss: 0.0514, val_loss: 0.0538\n",
      "Epoch [83/100], Loss: 0.0514, val_loss: 0.0560\n",
      "Epoch [84/100], Loss: 0.0514, val_loss: 0.0535\n",
      "Epoch [85/100], Loss: 0.0515, val_loss: 0.0567\n",
      "Epoch [86/100], Loss: 0.0516, val_loss: 0.0531\n",
      "Epoch [87/100], Loss: 0.0514, val_loss: 0.0536\n",
      "Epoch [88/100], Loss: 0.0517, val_loss: 0.0530\n",
      "Epoch [89/100], Loss: 0.0510, val_loss: 0.0543\n",
      "Epoch [90/100], Loss: 0.0511, val_loss: 0.0557\n",
      "Epoch [91/100], Loss: 0.0512, val_loss: 0.0529\n",
      "Epoch [92/100], Loss: 0.0510, val_loss: 0.0541\n",
      "Epoch [93/100], Loss: 0.0509, val_loss: 0.0532\n",
      "Epoch [94/100], Loss: 0.0511, val_loss: 0.0540\n",
      "Epoch [95/100], Loss: 0.0515, val_loss: 0.0609\n",
      "Epoch [96/100], Loss: 0.0515, val_loss: 0.0526\n",
      "Epoch [97/100], Loss: 0.0512, val_loss: 0.0542\n",
      "Epoch [98/100], Loss: 0.0511, val_loss: 0.0547\n",
      "Epoch [99/100], Loss: 0.0506, val_loss: 0.0548\n",
      "Epoch [100/100], Loss: 0.0514, val_loss: 0.0523\n"
     ]
    }
   ],
   "source": [
    "# 損失関数の定義\n",
    "criterion = nn.MSELoss()\n",
    "\n",
    "# オプティマイザの定義\n",
    "optimizer = torch.optim.Adam(model.parameters(), lr=learning_rate)\n",
    "\n",
    "#トレーニングの開始\n",
    "train_loss_list, val_loss_list = [], []\n",
    "\n",
    "for epoch in range(num_epochs):\n",
    "    train_loss, val_loss = 0, 0\n",
    "    \n",
    "    #train_mode\n",
    "    model.train()\n",
    "    for i, (input_data, output_data) in enumerate(dataloader_train):\n",
    "        # データをGPUに転送\n",
    "        input_data, output_data = input_data.to(device), output_data.to(device)\n",
    "        \n",
    "        # モデルの出力を計算\n",
    "        output = model(input_data.view(-1, input_size))\n",
    "        \n",
    "        # 損失関数の適用\n",
    "        loss = criterion(output, output_data)\n",
    "        \n",
    "        #train_lossに結果を蓄積\n",
    "        train_loss += loss.item()\n",
    "        \n",
    "        # 勾配を初期化して逆伝播\n",
    "        optimizer.zero_grad()\n",
    "        loss.backward()\n",
    "        optimizer.step()\n",
    "        \n",
    "        # lossの平均を計算\n",
    "        avg_train_loss = train_loss / len(dataloader_train.dataset)  \n",
    "        \n",
    "    #valid_mode\n",
    "    model.eval()\n",
    "    with torch.no_grad():\n",
    "        for input_data, output_data in dataloader_valid:\n",
    "            # データをGPUに転送\n",
    "            input_data, output_data = input_data.to(device), output_data.to(device)\n",
    "            \n",
    "            # モデルの出力を計算\n",
    "            output = model(input_data.view(-1, input_size))\n",
    "            \n",
    "            # 損失関数の適用\n",
    "            loss = criterion(output, output_data)\n",
    "        \n",
    "            #val_lossに結果を蓄積\n",
    "            val_loss += loss.item()\n",
    "    \n",
    "    # lossの平均を計算      \n",
    "    avg_val_loss = val_loss / len(dataloader_valid.dataset)\n",
    "    \n",
    "    # print log\n",
    "    print ('Epoch [{}/{}], Loss: {loss:.4f}, val_loss: {val_loss:.4f}'.format(epoch+1, num_epochs, i+1, loss=avg_train_loss, val_loss=avg_val_loss))\n",
    "    \n",
    "    # append list for polt graph after training\n",
    "    train_loss_list.append(avg_train_loss)\n",
    "    val_loss_list.append(avg_val_loss)\n",
    "\n"
   ]
  },
  {
   "cell_type": "code",
   "execution_count": 37,
   "metadata": {},
   "outputs": [
    {
     "data": {
      "image/png": "[encoded data removed]",
      "text/plain": [
       "<Figure size 640x480 with 1 Axes>"
      ]
     },
     "metadata": {},
     "output_type": "display_data"
    }
   ],
   "source": [
    "plt.figure()\n",
    "plt.plot(range(num_epochs), train_loss_list, color='blue', linestyle='-', label='train_loss')\n",
    "plt.plot(range(num_epochs), val_loss_list, color='green', linestyle='--', label='val_loss')\n",
    "plt.legend()\n",
    "plt.xlabel('epoch')\n",
    "plt.ylabel('loss')\n",
    "plt.title('Training and validation loss')\n",
    "plt.grid()"
   ]
  },
  {
   "cell_type": "code",
   "execution_count": 38,
   "metadata": {},
   "outputs": [],
   "source": [
    "#save model\n",
    "torch.save(model.state_dict(), '../saved_models/MLP_env1.pth')"
   ]
  },
  {
   "cell_type": "code",
   "execution_count": 53,
   "metadata": {},
   "outputs": [
    {
     "name": "stdout",
     "output_type": "stream",
     "text": [
      "MLP(\n",
      "  (fc1): Linear(in_features=6, out_features=2000, bias=True)\n",
      "  (relu): ReLU()\n",
      "  (fc2): Linear(in_features=2000, out_features=2000, bias=True)\n",
      "  (fc3): Linear(in_features=2000, out_features=56, bias=True)\n",
      ")\n"
     ]
    }
   ],
   "source": [
    "#read model\n",
    "model = MLP(input_size, hidden_size, output_size).to(device)\n",
    "model.load_state_dict(torch.load('../saved_models/MLP_env1_extract.pth'))\n",
    "print(model)"
   ]
  },
  {
   "cell_type": "code",
   "execution_count": 54,
   "metadata": {},
   "outputs": [],
   "source": [
    "class TestDataset(Dataset):\n",
    "    def __init__(self, test_data):\n",
    "        self.test_data = test_data\n",
    "\n",
    "    def __len__(self):\n",
    "        return len(self.test_data)\n",
    "\n",
    "    def __getitem__(self, index):\n",
    "        input = torch.tensor(self.test_data[index], dtype=torch.float32)\n",
    "        output = 0\n",
    "        return input, output"
   ]
  },
  {
   "cell_type": "code",
   "execution_count": 57,
   "metadata": {},
   "outputs": [
    {
     "name": "stdout",
     "output_type": "stream",
     "text": [
      "初期姿勢：-65°, 終端姿勢：44°\n",
      "True\n"
     ]
    },
    {
     "data": {
      "image/png": "[encoded data removed]",
      "text/plain": [
       "<Figure size 640x480 with 1 Axes>"
      ]
     },
     "metadata": {},
     "output_type": "display_data"
    }
   ],
   "source": [
    "#test_pathの表示\n",
    "import plot\n",
    "import random\n",
    "import utils\n",
    "\n",
    "#入力のサンプリング\n",
    "x_start = (random.uniform(-2, 4), random.uniform(-3, 3))  # Starting node\n",
    "x_goal = (random.uniform(26, 32), random.uniform(-3, 3))  # Goal node\n",
    "\n",
    "theta_start = random.uniform(-np.pi/2, np.pi/2)\n",
    "theta_goal = random.uniform(-np.pi/2, np.pi/2)\n",
    "\n",
    "test_data = np.array([[x_start[0], x_goal[0], x_start[1], x_goal[1], theta_start, theta_goal]])\n",
    "\n",
    "\"\"\"\n",
    "#正規化する\n",
    "input_data = np.concatenate([x_data_input, y_data_input, theta_data_input], axis=1)\n",
    "test_data = (test_data - np.min(input_data, axis=0)) / (np.max(input_data, axis=0) - np.min(input_data, axis=0))\n",
    "\"\"\"\n",
    "\n",
    "test_data = TestDataset(test_data)\n",
    "test_loader = torch.utils.data.DataLoader(test_data, batch_size=1, shuffle=False)\n",
    "\n",
    "#予測モード\n",
    "model.eval()\n",
    "with torch.no_grad():\n",
    "    input_data, _ = next(iter(test_loader))\n",
    "    input_data = input_data.to(device)\n",
    "    output = model(input_data)\n",
    "    output = output.view(2, -1)\n",
    "\n",
    "    \n",
    "output = output.cpu().numpy()\n",
    "test_x_path = np.append(output[0], x_goal[0])\n",
    "test_x_path = np.append(x_start[0], test_x_path)\n",
    "test_y_path = np.append(output[1], x_goal[1])\n",
    "test_y_path = np.append(x_start[1], test_y_path)\n",
    "print(\"初期姿勢：{}°, 終端姿勢：{}°\".format(int(np.degrees(theta_start)), int(np.degrees(theta_goal))))\n",
    "print(utils.is_collision_free(test_x_path, test_y_path))\n",
    "plot.vis_path_env1(test_x_path, test_y_path)"
   ]
  },
  {
   "cell_type": "code",
   "execution_count": null,
   "metadata": {},
   "outputs": [],
   "source": []
  }
 ],
 "metadata": {
  "kernelspec": {
   "display_name": "Python 3",
   "language": "python",
   "name": "python3"
  },
  "language_info": {
   "codemirror_mode": {
    "name": "ipython",
    "version": 3
   },
   "file_extension": ".py",
   "mimetype": "text/x-python",
   "name": "python",
   "nbconvert_exporter": "python",
   "pygments_lexer": "ipython3",
   "version": "3.10.6"
  },
  "orig_nbformat": 4
 },
 "nbformat": 4,
 "nbformat_minor": 2
}
